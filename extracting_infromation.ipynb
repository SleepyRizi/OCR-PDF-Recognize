{
 "cells": [
  {
   "cell_type": "code",
   "execution_count": 1,
   "id": "1d5e9c94",
   "metadata": {},
   "outputs": [],
   "source": [
    "# import pandas as pd\n",
    "import numpy as np\n",
    "import json"
   ]
  },
  {
   "cell_type": "markdown",
   "id": "2bbfb375",
   "metadata": {},
   "source": [
    "### Extracted numpy array from colab"
   ]
  },
  {
   "cell_type": "markdown",
   "id": "2e3ec9fc",
   "metadata": {},
   "source": [
    "### File 1"
   ]
  },
  {
   "cell_type": "code",
   "execution_count": 2,
   "id": "5d172e58",
   "metadata": {},
   "outputs": [],
   "source": [
    "data = np.load('myarr.npy')"
   ]
  },
  {
   "cell_type": "code",
   "execution_count": 3,
   "id": "6ddb3d56",
   "metadata": {},
   "outputs": [],
   "source": [
    "# data"
   ]
  },
  {
   "cell_type": "code",
   "execution_count": 4,
   "id": "d18b8ea4",
   "metadata": {},
   "outputs": [
    {
     "data": {
      "text/plain": [
       "array(['Place of Donation:KFMC', 'Place of Donation:KFMC',\n",
       "       'Place of Donation:KFMC', 'Place of Donation:KFMC', '', '', '', '',\n",
       "       '', '', '', '', 'Date:6/2/2023', 'Date:6/2/2023', 'Date:6/2/2023',\n",
       "       '', '', '', 'Blood Bank Receptionist:', '',\n",
       "       'Blood Bank Receptionist:', 'Blood Bank Receptionist:', 'Sara Ali',\n",
       "       'Sara Ali', ''], dtype='<U24')"
      ]
     },
     "execution_count": 4,
     "metadata": {},
     "output_type": "execute_result"
    }
   ],
   "source": [
    "data[1]"
   ]
  },
  {
   "cell_type": "code",
   "execution_count": null,
   "id": "df479f86",
   "metadata": {},
   "outputs": [],
   "source": []
  },
  {
   "cell_type": "code",
   "execution_count": 5,
   "id": "ab449e64",
   "metadata": {},
   "outputs": [],
   "source": [
    "# Extracting the data\n",
    "\n",
    "donation_info = {}\n",
    "donation_info['Place of Donation'] = data[1][0].split(':')[1]\n",
    "donation_info['Date'] = data[1][13].split(':')[1]\n",
    "donation_info['Blood Bank Receptionist'] = data[1][22]\n",
    "donation_info['Blood Unit No.'] = data[0][3]\n",
    "donation_info['First Name'] = data[3][3]\n",
    "donation_info['Father Name'] = data[3][12]\n",
    "donation_info['Grandfather Name'] = data[3][17]\n",
    "donation_info['Family Name'] = data[3][23]\n",
    "donation_info['National ID No.'] = ''.join(map(str, data[4,9:20]))\n",
    "donation_info['City'] =  data[5][5]\n",
    "donation_info['Area'] =  data[5][11]\n",
    "donation_info['Street'] =  data[5][16].split(':')[1].strip()\n",
    "donation_info['Mobile No.'] = ''.join(map(str,data[7][1:12]))\n",
    "donation_info['Date of Birth'] =   data[7][13]\n",
    "donation_info['Age'] = data[7][17]\n",
    "donation_info['Occupation'] =  data[7][20]\n",
    "donation_info['Nationality'] =  data[7][22]\n",
    "donation_info['Gender'] =  data[7][24]\n",
    "donation_info['pdf_name'] = 'LB-FO-P&P-46-03.pdf'\n"
   ]
  },
  {
   "cell_type": "code",
   "execution_count": 6,
   "id": "3debfd74",
   "metadata": {},
   "outputs": [
    {
     "data": {
      "text/plain": [
       "{'Place of Donation': 'KFMC',\n",
       " 'Date': '6/2/2023',\n",
       " 'Blood Bank Receptionist': 'Sara Ali',\n",
       " 'Blood Unit No.': 'A+',\n",
       " 'First Name': 'Jamal',\n",
       " 'Father Name': 'Ahmad',\n",
       " 'Grandfather Name': 'Muhammad',\n",
       " 'Family Name': 'Ali',\n",
       " 'National ID No.': '1075234000',\n",
       " 'City': 'Taif',\n",
       " 'Area': 'Shihar',\n",
       " 'Street': 'Ali bin abutaleb',\n",
       " 'Mobile No.': '966502773231',\n",
       " 'Date of Birth': '1/2/1990',\n",
       " 'Age': '33',\n",
       " 'Occupation': 'Teacher',\n",
       " 'Nationality': 'Saudi',\n",
       " 'Gender': 'Male',\n",
       " 'pdf_name': 'LB-FO-P&P-46-03.pdf'}"
      ]
     },
     "execution_count": 6,
     "metadata": {},
     "output_type": "execute_result"
    }
   ],
   "source": [
    "donation_info"
   ]
  },
  {
   "cell_type": "code",
   "execution_count": 7,
   "id": "84b0842c",
   "metadata": {},
   "outputs": [
    {
     "data": {
      "text/plain": [
       "dict"
      ]
     },
     "execution_count": 7,
     "metadata": {},
     "output_type": "execute_result"
    }
   ],
   "source": [
    "type(donation_info)"
   ]
  },
  {
   "cell_type": "code",
   "execution_count": null,
   "id": "89e99aef",
   "metadata": {},
   "outputs": [],
   "source": []
  },
  {
   "cell_type": "code",
   "execution_count": null,
   "id": "efeb6689",
   "metadata": {},
   "outputs": [],
   "source": []
  },
  {
   "cell_type": "markdown",
   "id": "bce50a1d",
   "metadata": {},
   "source": [
    "#### File 2"
   ]
  },
  {
   "cell_type": "code",
   "execution_count": 9,
   "id": "555b2cd0",
   "metadata": {},
   "outputs": [],
   "source": [
    "data2 = np.load('myarr2.npy')"
   ]
  },
  {
   "cell_type": "code",
   "execution_count": 10,
   "id": "aa39283c",
   "metadata": {},
   "outputs": [
    {
     "data": {
      "text/plain": [
       "{'Place of Donation': 'KFMC',\n",
       " 'Date': '6/2/2023',\n",
       " 'Blood Bank Receptionist': 'Sara Ali',\n",
       " 'Blood Unit No.': 'A+',\n",
       " 'First Name': 'Jamal',\n",
       " 'Father Name': 'Ahmad',\n",
       " 'Grandfather Name': 'Muhammad',\n",
       " 'Family Name': 'Ali',\n",
       " 'National ID No.': '1075234000',\n",
       " 'City': 'Taif',\n",
       " 'Area': 'Shihar',\n",
       " 'Street': 'Ali bin abutaleb',\n",
       " 'Mobile No.': '966502773231',\n",
       " 'Date of Birth': '1/2/1990',\n",
       " 'Age': '33',\n",
       " 'Occupation': 'Teacher',\n",
       " 'Nationality': 'Saudi',\n",
       " 'Gender': 'Male',\n",
       " 'pdf_name': 'LB-FO-P&P-46-03.pdf'}"
      ]
     },
     "execution_count": 10,
     "metadata": {},
     "output_type": "execute_result"
    }
   ],
   "source": [
    "donation_info"
   ]
  },
  {
   "cell_type": "code",
   "execution_count": 11,
   "id": "384e2d5b",
   "metadata": {},
   "outputs": [
    {
     "data": {
      "text/plain": [
       "'Saudi'"
      ]
     },
     "execution_count": 11,
     "metadata": {},
     "output_type": "execute_result"
    }
   ],
   "source": [
    "data2[7][22]"
   ]
  },
  {
   "cell_type": "code",
   "execution_count": 12,
   "id": "17c7c7e5",
   "metadata": {},
   "outputs": [],
   "source": [
    "# Extracting the data\n",
    "\n",
    "donation_info_2 = {}\n",
    "donation_info_2['Place of Donation'] =  data2[1][0][-4:]\n",
    "donation_info_2['Date'] = data2[1][7].split(':')[1]\n",
    "donation_info_2['Blood Bank Receptionist'] = data2[1][22]\n",
    "donation_info_2['Blood Unit No.'] = data2[0][1]\n",
    "donation_info_2['First Name'] = data2[3][1]\n",
    "donation_info_2['Father Name'] = data2[3][7]\n",
    "donation_info_2['Grandfather Name'] = data2[3][18]\n",
    "donation_info_2['Family Name'] = data2[3][22]\n",
    "donation_info_2['National ID No.'] = \"\".join(data2[4][6:9])+\"\".join(data2[4][11:18])\n",
    "donation_info_2['City'] =  data2[5][3]\n",
    "donation_info_2['Area'] =  data2[5][10]\n",
    "donation_info_2['Street'] =  data2[5][20]\n",
    "donation_info_2['Mobile No.'] = ''.join(data2[7][:5])\n",
    "donation_info_2['Date of Birth'] =  data2[7][7]\n",
    "donation_info_2['Age'] = data2[7][17]\n",
    "donation_info_2['Occupation'] =  data2[7][20]\n",
    "donation_info_2['Nationality'] =  data2[7][22]\n",
    "donation_info_2['Gender'] =  data2[7][24]\n",
    "donation_info_2['pdf_name'] = 'LB-FO-1.pdf'\n"
   ]
  },
  {
   "cell_type": "code",
   "execution_count": 13,
   "id": "da5b3769",
   "metadata": {},
   "outputs": [
    {
     "data": {
      "text/plain": [
       "{'Place of Donation': 'KFMC',\n",
       " 'Date': ' 7/ 2/2023',\n",
       " 'Blood Bank Receptionist': 'Talha',\n",
       " 'Blood Unit No.': 'B+',\n",
       " 'First Name': 'Ali',\n",
       " 'Father Name': 'Mehmood',\n",
       " 'Grandfather Name': 'Imran',\n",
       " 'Family Name': 'Ali',\n",
       " 'National ID No.': '1882456666',\n",
       " 'City': 'Taif',\n",
       " 'Area': 'Shihar',\n",
       " 'Street': 'Ali bin abutaleb',\n",
       " 'Mobile No.': '9662552',\n",
       " 'Date of Birth': '8/2/1998',\n",
       " 'Age': '30',\n",
       " 'Occupation': 'Teacher',\n",
       " 'Nationality': 'Saudi',\n",
       " 'Gender': 'Male',\n",
       " 'pdf_name': 'LB-FO-1.pdf'}"
      ]
     },
     "execution_count": 13,
     "metadata": {},
     "output_type": "execute_result"
    }
   ],
   "source": [
    "donation_info_2"
   ]
  },
  {
   "cell_type": "code",
   "execution_count": null,
   "id": "3656ee05",
   "metadata": {},
   "outputs": [],
   "source": []
  },
  {
   "cell_type": "markdown",
   "id": "f9c687e6",
   "metadata": {},
   "source": [
    "#### File 3"
   ]
  },
  {
   "cell_type": "code",
   "execution_count": null,
   "id": "057a6821",
   "metadata": {},
   "outputs": [],
   "source": []
  },
  {
   "cell_type": "code",
   "execution_count": 14,
   "id": "4ec28f99",
   "metadata": {},
   "outputs": [],
   "source": [
    "data3 = np.load('myarr3.npy')"
   ]
  },
  {
   "cell_type": "code",
   "execution_count": 15,
   "id": "69ec607e",
   "metadata": {},
   "outputs": [
    {
     "data": {
      "text/plain": [
       "'Fema'"
      ]
     },
     "execution_count": 15,
     "metadata": {},
     "output_type": "execute_result"
    }
   ],
   "source": [
    "data3[7][26]"
   ]
  },
  {
   "cell_type": "code",
   "execution_count": 16,
   "id": "2d12489a",
   "metadata": {},
   "outputs": [],
   "source": [
    "# Extracting the data\n",
    "\n",
    "donation_info_3 = {}\n",
    "donation_info_3['Place of Donation'] =  data3[1][0][-4:]\n",
    "donation_info_3['Date'] = data3[1][11].split(':')[1]\n",
    "donation_info_3['Blood Bank Receptionist'] = data3[1][24]\n",
    "donation_info_3['Blood Unit No.'] = data3[0][2]\n",
    "donation_info_3['First Name'] = data3[3][1]\n",
    "donation_info_3['Father Name'] = data3[3][11]\n",
    "donation_info_3['Grandfather Name'] = data3[3][20]\n",
    "donation_info_3['Family Name'] = data3[3][24]\n",
    "donation_info_3['National ID No.'] = \"\".join(data3[4][8:11])+\"\".join(data3[4][13:17])+\"\".join(data3[4][19:22])\n",
    "donation_info_3['City'] =  data3[5][4]\n",
    "donation_info_3['Area'] =  data3[5][12]\n",
    "donation_info_3['Street'] =  data3[5][21]\n",
    "donation_info_3['Mobile No.'] = ''.join(data3[7][:11])\n",
    "donation_info_3['Date of Birth'] =  data3[7][12]\n",
    "donation_info_3['Age'] = data3[7][19]\n",
    "donation_info_3['Occupation'] =  data3[7][22]\n",
    "donation_info_3['Nationality'] =  data3[7][24]\n",
    "donation_info_3['Gender'] =  data3[7][26]\n",
    "donation_info_3['pdf_name'] = 'LB-FO-2.pdf'\n"
   ]
  },
  {
   "cell_type": "code",
   "execution_count": 17,
   "id": "ddf5aead",
   "metadata": {},
   "outputs": [
    {
     "data": {
      "text/plain": [
       "{'Place of Donation': 'KFMC',\n",
       " 'Date': '7/2/2022',\n",
       " 'Blood Bank Receptionist': 'Talha',\n",
       " 'Blood Unit No.': 'AB+',\n",
       " 'First Name': 'Fatima',\n",
       " 'Father Name': 'Ali',\n",
       " 'Grandfather Name': 'Imran',\n",
       " 'Family Name': 'Ali',\n",
       " 'National ID No.': '9502415221',\n",
       " 'City': 'Taif',\n",
       " 'Area': 'Shihar',\n",
       " 'Street': 'Ali bin abutaleb',\n",
       " 'Mobile No.': '9661802252412',\n",
       " 'Date of Birth': '8/2/1999',\n",
       " 'Age': '30',\n",
       " 'Occupation': 'Teacher',\n",
       " 'Nationality': 'Saudi',\n",
       " 'Gender': 'Fema',\n",
       " 'pdf_name': 'LB-FO-2.pdf'}"
      ]
     },
     "execution_count": 17,
     "metadata": {},
     "output_type": "execute_result"
    }
   ],
   "source": [
    "donation_info_3"
   ]
  },
  {
   "cell_type": "markdown",
   "id": "db01ba1e",
   "metadata": {},
   "source": [
    "### appending into single list"
   ]
  },
  {
   "cell_type": "code",
   "execution_count": 18,
   "id": "f0cdc066",
   "metadata": {},
   "outputs": [],
   "source": [
    "dictionary = [donation_info, donation_info_2, donation_info_3]"
   ]
  },
  {
   "cell_type": "code",
   "execution_count": 21,
   "id": "29ffe291",
   "metadata": {},
   "outputs": [
    {
     "data": {
      "text/plain": [
       "{'Place of Donation': 'KFMC',\n",
       " 'Date': ' 7/ 2/2023',\n",
       " 'Blood Bank Receptionist': 'Talha',\n",
       " 'Blood Unit No.': 'B+',\n",
       " 'First Name': 'Ali',\n",
       " 'Father Name': 'Mehmood',\n",
       " 'Grandfather Name': 'Imran',\n",
       " 'Family Name': 'Ali',\n",
       " 'National ID No.': '1882456666',\n",
       " 'City': 'Taif',\n",
       " 'Area': 'Shihar',\n",
       " 'Street': 'Ali bin abutaleb',\n",
       " 'Mobile No.': '9662552',\n",
       " 'Date of Birth': '8/2/1998',\n",
       " 'Age': '30',\n",
       " 'Occupation': 'Teacher',\n",
       " 'Nationality': 'Saudi',\n",
       " 'Gender': 'Male',\n",
       " 'pdf_name': 'LB-FO-1.pdf'}"
      ]
     },
     "execution_count": 21,
     "metadata": {},
     "output_type": "execute_result"
    }
   ],
   "source": [
    "dictionary[1]"
   ]
  },
  {
   "cell_type": "code",
   "execution_count": 19,
   "id": "9aa9df1a",
   "metadata": {},
   "outputs": [],
   "source": [
    "# Saving the dictionary to a file\n",
    "with open(\"dictionary.json\", \"w\") as file:\n",
    "    json.dump(donation_info, file)"
   ]
  },
  {
   "cell_type": "code",
   "execution_count": 22,
   "id": "f0cdee2c",
   "metadata": {},
   "outputs": [
    {
     "data": {
      "text/plain": [
       "[{'Place of Donation': 'KFMC',\n",
       "  'Date': '6/2/2023',\n",
       "  'Blood Bank Receptionist': 'Sara Ali',\n",
       "  'Blood Unit No.': 'A+',\n",
       "  'First Name': 'Jamal',\n",
       "  'Father Name': 'Ahmad',\n",
       "  'Grandfather Name': 'Muhammad',\n",
       "  'Family Name': 'Ali',\n",
       "  'National ID No.': '1075234000',\n",
       "  'City': 'Taif',\n",
       "  'Area': 'Shihar',\n",
       "  'Street': 'Ali bin abutaleb',\n",
       "  'Mobile No.': '966502773231',\n",
       "  'Date of Birth': '1/2/1990',\n",
       "  'Age': '33',\n",
       "  'Occupation': 'Teacher',\n",
       "  'Nationality': 'Saudi',\n",
       "  'Gender': 'Male',\n",
       "  'pdf_name': 'LB-FO-P&P-46-03.pdf'},\n",
       " {'Place of Donation': 'KFMC',\n",
       "  'Date': ' 7/ 2/2023',\n",
       "  'Blood Bank Receptionist': 'Talha',\n",
       "  'Blood Unit No.': 'B+',\n",
       "  'First Name': 'Ali',\n",
       "  'Father Name': 'Mehmood',\n",
       "  'Grandfather Name': 'Imran',\n",
       "  'Family Name': 'Ali',\n",
       "  'National ID No.': '1882456666',\n",
       "  'City': 'Taif',\n",
       "  'Area': 'Shihar',\n",
       "  'Street': 'Ali bin abutaleb',\n",
       "  'Mobile No.': '9662552',\n",
       "  'Date of Birth': '8/2/1998',\n",
       "  'Age': '30',\n",
       "  'Occupation': 'Teacher',\n",
       "  'Nationality': 'Saudi',\n",
       "  'Gender': 'Male',\n",
       "  'pdf_name': 'LB-FO-1.pdf'},\n",
       " {'Place of Donation': 'KFMC',\n",
       "  'Date': '7/2/2022',\n",
       "  'Blood Bank Receptionist': 'Talha',\n",
       "  'Blood Unit No.': 'AB+',\n",
       "  'First Name': 'Fatima',\n",
       "  'Father Name': 'Ali',\n",
       "  'Grandfather Name': 'Imran',\n",
       "  'Family Name': 'Ali',\n",
       "  'National ID No.': '9502415221',\n",
       "  'City': 'Taif',\n",
       "  'Area': 'Shihar',\n",
       "  'Street': 'Ali bin abutaleb',\n",
       "  'Mobile No.': '9661802252412',\n",
       "  'Date of Birth': '8/2/1999',\n",
       "  'Age': '30',\n",
       "  'Occupation': 'Teacher',\n",
       "  'Nationality': 'Saudi',\n",
       "  'Gender': 'Fema',\n",
       "  'pdf_name': 'LB-FO-2.pdf'}]"
      ]
     },
     "execution_count": 22,
     "metadata": {},
     "output_type": "execute_result"
    }
   ],
   "source": [
    "dictionary"
   ]
  },
  {
   "cell_type": "code",
   "execution_count": null,
   "id": "eb290583",
   "metadata": {},
   "outputs": [],
   "source": []
  }
 ],
 "metadata": {
  "kernelspec": {
   "display_name": "Python 3 (ipykernel)",
   "language": "python",
   "name": "python3"
  },
  "language_info": {
   "codemirror_mode": {
    "name": "ipython",
    "version": 3
   },
   "file_extension": ".py",
   "mimetype": "text/x-python",
   "name": "python",
   "nbconvert_exporter": "python",
   "pygments_lexer": "ipython3",
   "version": "3.9.13"
  }
 },
 "nbformat": 4,
 "nbformat_minor": 5
}
