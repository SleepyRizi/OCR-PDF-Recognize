{
  "cells": [
    {
      "cell_type": "code",
      "source": [
        "from PIL import Image\n",
        "import cv2\n",
        "import numpy as np\n",
        "import pandas as pd \n",
        "import tensorflow as tf"
      ],
      "metadata": {
        "id": "mhEjVUbiUytV"
      },
      "execution_count": null,
      "outputs": []
    },
    {
      "cell_type": "code",
      "source": [
        "#!pip install paddlepaddle-gpu==2.3.2 cudatoolkit==10.2"
      ],
      "metadata": {
        "id": "JejuCeNXHckg"
      },
      "execution_count": null,
      "outputs": []
    },
    {
      "cell_type": "code",
      "source": [
        "!pip install paddlepaddle-gpu==2.3.0.post110 -f https://www.paddlepaddle.org.cn/whl/linux/mkl/avx/stable.html"
      ],
      "metadata": {
        "colab": {
          "base_uri": "https://localhost:8080/"
        },
        "id": "xWhdOt9Jay6z",
        "outputId": "6cf00f3c-4508-48f1-df6d-478efa7c9e90"
      },
      "execution_count": null,
      "outputs": [
        {
          "output_type": "stream",
          "name": "stdout",
          "text": [
            "Looking in indexes: https://pypi.org/simple, https://us-python.pkg.dev/colab-wheels/public/simple/\n",
            "Looking in links: https://www.paddlepaddle.org.cn/whl/linux/mkl/avx/stable.html\n",
            "Collecting paddlepaddle-gpu==2.3.0.post110\n",
            "  Downloading https://paddle-wheel.bj.bcebos.com/2.3.0/linux/linux-gpu-cuda11.0-cudnn8-mkl-gcc8.2-avx/paddlepaddle_gpu-2.3.0.post110-cp38-cp38-linux_x86_64.whl (532.9 MB)\n",
            "\u001b[2K     \u001b[90m━━━━━━━━━━━━━━━━━━━━━━━━━━━━━━━━━━━━━━━\u001b[0m \u001b[32m532.9/532.9 MB\u001b[0m \u001b[31m2.3 MB/s\u001b[0m eta \u001b[36m0:00:00\u001b[0m\n",
            "\u001b[?25hRequirement already satisfied: requests>=2.20.0 in /usr/local/lib/python3.8/dist-packages (from paddlepaddle-gpu==2.3.0.post110) (2.25.1)\n",
            "Collecting paddle-bfloat==0.1.2\n",
            "  Downloading paddle_bfloat-0.1.2-cp38-cp38-manylinux_2_5_x86_64.manylinux1_x86_64.manylinux_2_12_x86_64.manylinux2010_x86_64.whl (378 kB)\n",
            "\u001b[2K     \u001b[90m━━━━━━━━━━━━━━━━━━━━━━━━━━━━━━━━━━━━━━\u001b[0m \u001b[32m378.1/378.1 KB\u001b[0m \u001b[31m14.3 MB/s\u001b[0m eta \u001b[36m0:00:00\u001b[0m\n",
            "\u001b[?25hRequirement already satisfied: six in /usr/local/lib/python3.8/dist-packages (from paddlepaddle-gpu==2.3.0.post110) (1.15.0)\n",
            "Requirement already satisfied: astor in /usr/local/lib/python3.8/dist-packages (from paddlepaddle-gpu==2.3.0.post110) (0.8.1)\n",
            "Requirement already satisfied: Pillow in /usr/local/lib/python3.8/dist-packages (from paddlepaddle-gpu==2.3.0.post110) (7.1.2)\n",
            "Requirement already satisfied: decorator in /usr/local/lib/python3.8/dist-packages (from paddlepaddle-gpu==2.3.0.post110) (4.4.2)\n",
            "Requirement already satisfied: opt-einsum==3.3.0 in /usr/local/lib/python3.8/dist-packages (from paddlepaddle-gpu==2.3.0.post110) (3.3.0)\n",
            "Requirement already satisfied: protobuf>=3.1.0 in /usr/local/lib/python3.8/dist-packages (from paddlepaddle-gpu==2.3.0.post110) (3.19.6)\n",
            "Requirement already satisfied: numpy>=1.13 in /usr/local/lib/python3.8/dist-packages (from paddlepaddle-gpu==2.3.0.post110) (1.21.6)\n",
            "Requirement already satisfied: idna<3,>=2.5 in /usr/local/lib/python3.8/dist-packages (from requests>=2.20.0->paddlepaddle-gpu==2.3.0.post110) (2.10)\n",
            "Requirement already satisfied: certifi>=2017.4.17 in /usr/local/lib/python3.8/dist-packages (from requests>=2.20.0->paddlepaddle-gpu==2.3.0.post110) (2022.12.7)\n",
            "Requirement already satisfied: urllib3<1.27,>=1.21.1 in /usr/local/lib/python3.8/dist-packages (from requests>=2.20.0->paddlepaddle-gpu==2.3.0.post110) (1.24.3)\n",
            "Requirement already satisfied: chardet<5,>=3.0.2 in /usr/local/lib/python3.8/dist-packages (from requests>=2.20.0->paddlepaddle-gpu==2.3.0.post110) (4.0.0)\n",
            "Installing collected packages: paddle-bfloat, paddlepaddle-gpu\n",
            "Successfully installed paddle-bfloat-0.1.2 paddlepaddle-gpu-2.3.0.post110\n"
          ]
        }
      ]
    },
    {
      "cell_type": "markdown",
      "metadata": {
        "id": "dvKiMyj2feUe"
      },
      "source": [
        "# pdf2image"
      ]
    },
    {
      "cell_type": "markdown",
      "source": [
        "## Installation"
      ],
      "metadata": {
        "id": "aIz56VvlWkf-"
      }
    },
    {
      "cell_type": "code",
      "source": [
        "!pip install pdf2image\n",
        "!apt-get update\n",
        "!apt-get install poppler-utils"
      ],
      "metadata": {
        "colab": {
          "base_uri": "https://localhost:8080/"
        },
        "id": "biSgyAkWnUD3",
        "outputId": "75a7a3f0-dfc1-41c2-ab22-27625de21eeb"
      },
      "execution_count": null,
      "outputs": [
        {
          "output_type": "stream",
          "name": "stdout",
          "text": [
            "Looking in indexes: https://pypi.org/simple, https://us-python.pkg.dev/colab-wheels/public/simple/\n",
            "Collecting pdf2image\n",
            "  Downloading pdf2image-1.16.2-py3-none-any.whl (11 kB)\n",
            "Requirement already satisfied: pillow in /usr/local/lib/python3.8/dist-packages (from pdf2image) (7.1.2)\n",
            "Installing collected packages: pdf2image\n",
            "Successfully installed pdf2image-1.16.2\n",
            "Hit:1 http://ppa.launchpad.net/c2d4u.team/c2d4u4.0+/ubuntu focal InRelease\n",
            "Hit:2 http://ppa.launchpad.net/cran/libgit2/ubuntu focal InRelease\n",
            "Hit:3 http://ppa.launchpad.net/deadsnakes/ppa/ubuntu focal InRelease\n",
            "Get:4 https://cloud.r-project.org/bin/linux/ubuntu focal-cran40/ InRelease [3,622 B]\n",
            "Hit:5 http://ppa.launchpad.net/graphics-drivers/ppa/ubuntu focal InRelease\n",
            "Hit:6 http://archive.ubuntu.com/ubuntu focal InRelease\n",
            "Get:7 http://security.ubuntu.com/ubuntu focal-security InRelease [114 kB]\n",
            "Get:8 http://archive.ubuntu.com/ubuntu focal-updates InRelease [114 kB]\n",
            "Ign:9 https://developer.download.nvidia.com/compute/machine-learning/repos/ubuntu2004/x86_64  InRelease\n",
            "Hit:10 https://developer.download.nvidia.com/compute/cuda/repos/ubuntu2004/x86_64  InRelease\n",
            "Hit:11 https://developer.download.nvidia.com/compute/machine-learning/repos/ubuntu2004/x86_64  Release\n",
            "Get:12 http://archive.ubuntu.com/ubuntu focal-backports InRelease [108 kB]\n",
            "Get:14 http://security.ubuntu.com/ubuntu focal-security/universe amd64 Packages [993 kB]\n",
            "Get:15 http://archive.ubuntu.com/ubuntu focal-updates/universe amd64 Packages [1,295 kB]\n",
            "Get:16 http://security.ubuntu.com/ubuntu focal-security/main amd64 Packages [2,479 kB]\n",
            "Get:17 http://archive.ubuntu.com/ubuntu focal-updates/main amd64 Packages [2,950 kB]\n",
            "Get:18 http://security.ubuntu.com/ubuntu focal-security/restricted amd64 Packages [1,920 kB]\n",
            "Fetched 9,977 kB in 2s (4,384 kB/s)\n",
            "Reading package lists... Done\n",
            "Reading package lists... Done\n",
            "Building dependency tree       \n",
            "Reading state information... Done\n",
            "The following package was automatically installed and is no longer required:\n",
            "  libnvidia-common-510\n",
            "Use 'apt autoremove' to remove it.\n",
            "The following NEW packages will be installed:\n",
            "  poppler-utils\n",
            "0 upgraded, 1 newly installed, 0 to remove and 21 not upgraded.\n",
            "Need to get 174 kB of archives.\n",
            "After this operation, 754 kB of additional disk space will be used.\n",
            "Get:1 http://archive.ubuntu.com/ubuntu focal-updates/main amd64 poppler-utils amd64 0.86.1-0ubuntu1.1 [174 kB]\n",
            "Fetched 174 kB in 0s (1,352 kB/s)\n",
            "Selecting previously unselected package poppler-utils.\n",
            "(Reading database ... 128048 files and directories currently installed.)\n",
            "Preparing to unpack .../poppler-utils_0.86.1-0ubuntu1.1_amd64.deb ...\n",
            "Unpacking poppler-utils (0.86.1-0ubuntu1.1) ...\n",
            "Setting up poppler-utils (0.86.1-0ubuntu1.1) ...\n",
            "Processing triggers for man-db (2.9.1-1) ...\n"
          ]
        }
      ]
    },
    {
      "cell_type": "markdown",
      "source": [
        "## Conversion"
      ],
      "metadata": {
        "id": "pLaguCz1WmF9"
      }
    },
    {
      "cell_type": "code",
      "source": [
        "from pdf2image import convert_from_path"
      ],
      "metadata": {
        "id": "HI1dzCGmkeWI"
      },
      "execution_count": null,
      "outputs": []
    },
    {
      "cell_type": "code",
      "source": [
        "images = convert_from_path('/content/LB-FO-P&P-46-03.pdf')"
      ],
      "metadata": {
        "id": "xyhjFgqjkgG7"
      },
      "execution_count": null,
      "outputs": []
    },
    {
      "cell_type": "code",
      "source": [
        "!mkdir pages"
      ],
      "metadata": {
        "id": "M5hBWxpskgJW",
        "colab": {
          "base_uri": "https://localhost:8080/"
        },
        "outputId": "1fbeb6c9-32c7-4418-cc69-73bebe228c2a"
      },
      "execution_count": null,
      "outputs": [
        {
          "output_type": "stream",
          "name": "stdout",
          "text": [
            "mkdir: cannot create directory ‘pages’: File exists\n"
          ]
        }
      ]
    },
    {
      "cell_type": "code",
      "source": [
        "for i in range(len(images)):\n",
        "  images[i].save('pages/page'+str(i)+'.jpg', 'JPEG')"
      ],
      "metadata": {
        "id": "7mlH9ltkkgMB"
      },
      "execution_count": null,
      "outputs": []
    },
    {
      "cell_type": "markdown",
      "source": [
        "# Layout"
      ],
      "metadata": {
        "id": "Urwb7Q_OZC8t"
      }
    },
    {
      "cell_type": "markdown",
      "source": [
        "## Installation"
      ],
      "metadata": {
        "id": "vTkwQbF4FZPN"
      }
    },
    {
      "cell_type": "code",
      "source": [
        "#!python3 -m pip install paddlepaddle-gpu\n",
        "!pip install \"paddleocr>=2.0.1\"\n",
        "!pip install protobuf==3.20.0\n",
        "!git clone https://github.com/PaddlePaddle/PaddleOCR.git"
      ],
      "metadata": {
        "colab": {
          "base_uri": "https://localhost:8080/"
        },
        "id": "R0lRpQLkIpbZ",
        "outputId": "09cc8bba-3ae5-4ee9-b18f-ae16f0fa8169"
      },
      "execution_count": null,
      "outputs": [
        {
          "output_type": "stream",
          "name": "stdout",
          "text": [
            "Looking in indexes: https://pypi.org/simple, https://us-python.pkg.dev/colab-wheels/public/simple/\n",
            "Collecting paddleocr>=2.0.1\n",
            "  Downloading paddleocr-2.6.1.3-py3-none-any.whl (445 kB)\n",
            "\u001b[2K     \u001b[90m━━━━━━━━━━━━━━━━━━━━━━━━━━━━━━━━━━━━━━\u001b[0m \u001b[32m445.9/445.9 KB\u001b[0m \u001b[31m11.7 MB/s\u001b[0m eta \u001b[36m0:00:00\u001b[0m\n",
            "\u001b[?25hCollecting visualdl\n",
            "  Downloading visualdl-2.5.0-py3-none-any.whl (6.3 MB)\n",
            "\u001b[2K     \u001b[90m━━━━━━━━━━━━━━━━━━━━━━━━━━━━━━━━━━━━━━━━\u001b[0m \u001b[32m6.3/6.3 MB\u001b[0m \u001b[31m78.8 MB/s\u001b[0m eta \u001b[36m0:00:00\u001b[0m\n",
            "\u001b[?25hCollecting premailer\n",
            "  Downloading premailer-3.10.0-py2.py3-none-any.whl (19 kB)\n",
            "Collecting fonttools>=4.24.0\n",
            "  Downloading fonttools-4.38.0-py3-none-any.whl (965 kB)\n",
            "\u001b[2K     \u001b[90m━━━━━━━━━━━━━━━━━━━━━━━━━━━━━━━━━━━━━━\u001b[0m \u001b[32m965.4/965.4 KB\u001b[0m \u001b[31m71.2 MB/s\u001b[0m eta \u001b[36m0:00:00\u001b[0m\n",
            "\u001b[?25hCollecting fire>=0.3.0\n",
            "  Downloading fire-0.5.0.tar.gz (88 kB)\n",
            "\u001b[2K     \u001b[90m━━━━━━━━━━━━━━━━━━━━━━━━━━━━━━━━━━━━━━━━\u001b[0m \u001b[32m88.3/88.3 KB\u001b[0m \u001b[31m14.0 MB/s\u001b[0m eta \u001b[36m0:00:00\u001b[0m\n",
            "\u001b[?25h  Preparing metadata (setup.py) ... \u001b[?25l\u001b[?25hdone\n",
            "Requirement already satisfied: beautifulsoup4 in /usr/local/lib/python3.8/dist-packages (from paddleocr>=2.0.1) (4.6.3)\n",
            "Requirement already satisfied: imgaug in /usr/local/lib/python3.8/dist-packages (from paddleocr>=2.0.1) (0.4.0)\n",
            "Collecting PyMuPDF<1.21.0\n",
            "  Downloading PyMuPDF-1.20.2-cp38-cp38-manylinux_2_17_x86_64.manylinux2014_x86_64.whl (8.8 MB)\n",
            "\u001b[2K     \u001b[90m━━━━━━━━━━━━━━━━━━━━━━━━━━━━━━━━━━━━━━━━\u001b[0m \u001b[32m8.8/8.8 MB\u001b[0m \u001b[31m91.0 MB/s\u001b[0m eta \u001b[36m0:00:00\u001b[0m\n",
            "\u001b[?25hRequirement already satisfied: opencv-contrib-python<=4.6.0.66 in /usr/local/lib/python3.8/dist-packages (from paddleocr>=2.0.1) (4.6.0.66)\n",
            "Collecting pdf2docx\n",
            "  Downloading pdf2docx-0.5.6-py3-none-any.whl (148 kB)\n",
            "\u001b[2K     \u001b[90m━━━━━━━━━━━━━━━━━━━━━━━━━━━━━━━━━━━━━━\u001b[0m \u001b[32m148.4/148.4 KB\u001b[0m \u001b[31m22.0 MB/s\u001b[0m eta \u001b[36m0:00:00\u001b[0m\n",
            "\u001b[?25hRequirement already satisfied: lmdb in /usr/local/lib/python3.8/dist-packages (from paddleocr>=2.0.1) (0.99)\n",
            "Requirement already satisfied: scikit-image in /usr/local/lib/python3.8/dist-packages (from paddleocr>=2.0.1) (0.18.3)\n",
            "Requirement already satisfied: tqdm in /usr/local/lib/python3.8/dist-packages (from paddleocr>=2.0.1) (4.64.1)\n",
            "Requirement already satisfied: lxml in /usr/local/lib/python3.8/dist-packages (from paddleocr>=2.0.1) (4.9.2)\n",
            "Requirement already satisfied: opencv-python<=4.6.0.66 in /usr/local/lib/python3.8/dist-packages (from paddleocr>=2.0.1) (4.6.0.66)\n",
            "Collecting rapidfuzz\n",
            "  Downloading rapidfuzz-2.13.7-cp38-cp38-manylinux_2_17_x86_64.manylinux2014_x86_64.whl (2.2 MB)\n",
            "\u001b[2K     \u001b[90m━━━━━━━━━━━━━━━━━━━━━━━━━━━━━━━━━━━━━━━━\u001b[0m \u001b[32m2.2/2.2 MB\u001b[0m \u001b[31m95.0 MB/s\u001b[0m eta \u001b[36m0:00:00\u001b[0m\n",
            "\u001b[?25hRequirement already satisfied: shapely in /usr/local/lib/python3.8/dist-packages (from paddleocr>=2.0.1) (2.0.1)\n",
            "Collecting attrdict\n",
            "  Downloading attrdict-2.0.1-py2.py3-none-any.whl (9.9 kB)\n",
            "Collecting pyclipper\n",
            "  Downloading pyclipper-1.3.0.post4-cp38-cp38-manylinux_2_5_x86_64.manylinux1_x86_64.whl (619 kB)\n",
            "\u001b[2K     \u001b[90m━━━━━━━━━━━━━━━━━━━━━━━━━━━━━━━━━━━━━━\u001b[0m \u001b[32m619.2/619.2 KB\u001b[0m \u001b[31m59.7 MB/s\u001b[0m eta \u001b[36m0:00:00\u001b[0m\n",
            "\u001b[?25hRequirement already satisfied: numpy in /usr/local/lib/python3.8/dist-packages (from paddleocr>=2.0.1) (1.21.6)\n",
            "Requirement already satisfied: openpyxl in /usr/local/lib/python3.8/dist-packages (from paddleocr>=2.0.1) (3.0.10)\n",
            "Requirement already satisfied: cython in /usr/local/lib/python3.8/dist-packages (from paddleocr>=2.0.1) (0.29.33)\n",
            "Collecting python-docx\n",
            "  Downloading python-docx-0.8.11.tar.gz (5.6 MB)\n",
            "\u001b[2K     \u001b[90m━━━━━━━━━━━━━━━━━━━━━━━━━━━━━━━━━━━━━━━━\u001b[0m \u001b[32m5.6/5.6 MB\u001b[0m \u001b[31m109.7 MB/s\u001b[0m eta \u001b[36m0:00:00\u001b[0m\n",
            "\u001b[?25h  Preparing metadata (setup.py) ... \u001b[?25l\u001b[?25hdone\n",
            "Requirement already satisfied: six in /usr/local/lib/python3.8/dist-packages (from fire>=0.3.0->paddleocr>=2.0.1) (1.15.0)\n",
            "Requirement already satisfied: termcolor in /usr/local/lib/python3.8/dist-packages (from fire>=0.3.0->paddleocr>=2.0.1) (2.2.0)\n",
            "Requirement already satisfied: matplotlib in /usr/local/lib/python3.8/dist-packages (from imgaug->paddleocr>=2.0.1) (3.2.2)\n",
            "Requirement already satisfied: scipy in /usr/local/lib/python3.8/dist-packages (from imgaug->paddleocr>=2.0.1) (1.7.3)\n",
            "Requirement already satisfied: Pillow in /usr/local/lib/python3.8/dist-packages (from imgaug->paddleocr>=2.0.1) (7.1.2)\n",
            "Requirement already satisfied: imageio in /usr/local/lib/python3.8/dist-packages (from imgaug->paddleocr>=2.0.1) (2.9.0)\n",
            "Requirement already satisfied: PyWavelets>=1.1.1 in /usr/local/lib/python3.8/dist-packages (from scikit-image->paddleocr>=2.0.1) (1.4.1)\n",
            "Requirement already satisfied: tifffile>=2019.7.26 in /usr/local/lib/python3.8/dist-packages (from scikit-image->paddleocr>=2.0.1) (2023.1.23.1)\n",
            "Requirement already satisfied: networkx>=2.0 in /usr/local/lib/python3.8/dist-packages (from scikit-image->paddleocr>=2.0.1) (3.0)\n",
            "Requirement already satisfied: et-xmlfile in /usr/local/lib/python3.8/dist-packages (from openpyxl->paddleocr>=2.0.1) (1.1.0)\n",
            "Requirement already satisfied: cachetools in /usr/local/lib/python3.8/dist-packages (from premailer->paddleocr>=2.0.1) (5.3.0)\n",
            "Requirement already satisfied: requests in /usr/local/lib/python3.8/dist-packages (from premailer->paddleocr>=2.0.1) (2.25.1)\n",
            "Collecting cssutils\n",
            "  Downloading cssutils-2.6.0-py3-none-any.whl (399 kB)\n",
            "\u001b[2K     \u001b[90m━━━━━━━━━━━━━━━━━━━━━━━━━━━━━━━━━━━━━━\u001b[0m \u001b[32m399.7/399.7 KB\u001b[0m \u001b[31m48.3 MB/s\u001b[0m eta \u001b[36m0:00:00\u001b[0m\n",
            "\u001b[?25hCollecting cssselect\n",
            "  Downloading cssselect-1.2.0-py2.py3-none-any.whl (18 kB)\n",
            "Requirement already satisfied: psutil in /usr/local/lib/python3.8/dist-packages (from visualdl->paddleocr>=2.0.1) (5.4.8)\n",
            "Collecting multiprocess\n",
            "  Downloading multiprocess-0.70.14-py38-none-any.whl (132 kB)\n",
            "\u001b[2K     \u001b[90m━━━━━━━━━━━━━━━━━━━━━━━━━━━━━━━━━━━━━━\u001b[0m \u001b[32m132.0/132.0 KB\u001b[0m \u001b[31m15.9 MB/s\u001b[0m eta \u001b[36m0:00:00\u001b[0m\n",
            "\u001b[?25hCollecting bce-python-sdk\n",
            "  Downloading bce_python_sdk-0.8.79-py3-none-any.whl (207 kB)\n",
            "\u001b[2K     \u001b[90m━━━━━━━━━━━━━━━━━━━━━━━━━━━━━━━━━━━━━━\u001b[0m \u001b[32m207.8/207.8 KB\u001b[0m \u001b[31m26.1 MB/s\u001b[0m eta \u001b[36m0:00:00\u001b[0m\n",
            "\u001b[?25hCollecting Flask-Babel>=3.0.0\n",
            "  Downloading flask_babel-3.0.1-py3-none-any.whl (11 kB)\n",
            "Collecting onnx>=1.6.0\n",
            "  Downloading onnx-1.13.0-cp38-cp38-manylinux_2_17_x86_64.manylinux2014_x86_64.whl (13.5 MB)\n",
            "\u001b[2K     \u001b[90m━━━━━━━━━━━━━━━━━━━━━━━━━━━━━━━━━━━━━━━━\u001b[0m \u001b[32m13.5/13.5 MB\u001b[0m \u001b[31m54.5 MB/s\u001b[0m eta \u001b[36m0:00:00\u001b[0m\n",
            "\u001b[?25hRequirement already satisfied: pandas in /usr/local/lib/python3.8/dist-packages (from visualdl->paddleocr>=2.0.1) (1.3.5)\n",
            "Collecting x2paddle\n",
            "  Downloading x2paddle-1.4.0-py3-none-any.whl (319 kB)\n",
            "\u001b[2K     \u001b[90m━━━━━━━━━━━━━━━━━━━━━━━━━━━━━━━━━━━━━━\u001b[0m \u001b[32m319.1/319.1 KB\u001b[0m \u001b[31m33.2 MB/s\u001b[0m eta \u001b[36m0:00:00\u001b[0m\n",
            "\u001b[?25hCollecting gradio\n",
            "  Downloading gradio-3.18.0-py3-none-any.whl (14.2 MB)\n",
            "\u001b[2K     \u001b[90m━━━━━━━━━━━━━━━━━━━━━━━━━━━━━━━━━━━━━━━━\u001b[0m \u001b[32m14.2/14.2 MB\u001b[0m \u001b[31m87.0 MB/s\u001b[0m eta \u001b[36m0:00:00\u001b[0m\n",
            "\u001b[?25hRequirement already satisfied: flask>=1.1.1 in /usr/local/lib/python3.8/dist-packages (from visualdl->paddleocr>=2.0.1) (1.1.4)\n",
            "Requirement already satisfied: protobuf>=3.11.0 in /usr/local/lib/python3.8/dist-packages (from visualdl->paddleocr>=2.0.1) (3.19.6)\n",
            "Collecting tritonclient[all]\n",
            "  Downloading tritonclient-2.30.0-py3-none-manylinux1_x86_64.whl (11.7 MB)\n",
            "\u001b[2K     \u001b[90m━━━━━━━━━━━━━━━━━━━━━━━━━━━━━━━━━━━━━━━━\u001b[0m \u001b[32m11.7/11.7 MB\u001b[0m \u001b[31m99.7 MB/s\u001b[0m eta \u001b[36m0:00:00\u001b[0m\n",
            "\u001b[?25hRequirement already satisfied: packaging in /usr/local/lib/python3.8/dist-packages (from visualdl->paddleocr>=2.0.1) (23.0)\n",
            "Collecting rarfile\n",
            "  Downloading rarfile-4.0-py3-none-any.whl (28 kB)\n",
            "Requirement already satisfied: click<8.0,>=5.1 in /usr/local/lib/python3.8/dist-packages (from flask>=1.1.1->visualdl->paddleocr>=2.0.1) (7.1.2)\n",
            "Requirement already satisfied: Jinja2<3.0,>=2.10.1 in /usr/local/lib/python3.8/dist-packages (from flask>=1.1.1->visualdl->paddleocr>=2.0.1) (2.11.3)\n",
            "Requirement already satisfied: itsdangerous<2.0,>=0.24 in /usr/local/lib/python3.8/dist-packages (from flask>=1.1.1->visualdl->paddleocr>=2.0.1) (1.1.0)\n",
            "Requirement already satisfied: Werkzeug<2.0,>=0.15 in /usr/local/lib/python3.8/dist-packages (from flask>=1.1.1->visualdl->paddleocr>=2.0.1) (1.0.1)\n",
            "Collecting Flask-Babel>=3.0.0\n",
            "  Downloading flask_babel-3.0.0-py3-none-any.whl (11 kB)\n",
            "INFO: pip is looking at multiple versions of flask to determine which version is compatible with other requirements. This could take a while.\n",
            "Collecting flask>=1.1.1\n",
            "  Downloading Flask-2.2.2-py3-none-any.whl (101 kB)\n",
            "\u001b[2K     \u001b[90m━━━━━━━━━━━━━━━━━━━━━━━━━━━━━━━━━━━━━━\u001b[0m \u001b[32m101.5/101.5 KB\u001b[0m \u001b[31m15.1 MB/s\u001b[0m eta \u001b[36m0:00:00\u001b[0m\n",
            "\u001b[?25hCollecting click>=8.0\n",
            "  Downloading click-8.1.3-py3-none-any.whl (96 kB)\n",
            "\u001b[2K     \u001b[90m━━━━━━━━━━━━━━━━━━━━━━━━━━━━━━━━━━━━━━━━\u001b[0m \u001b[32m96.6/96.6 KB\u001b[0m \u001b[31m12.6 MB/s\u001b[0m eta \u001b[36m0:00:00\u001b[0m\n",
            "\u001b[?25hCollecting Werkzeug>=2.2.2\n",
            "  Downloading Werkzeug-2.2.2-py3-none-any.whl (232 kB)\n",
            "\u001b[2K     \u001b[90m━━━━━━━━━━━━━━━━━━━━━━━━━━━━━━━━━━━━━━\u001b[0m \u001b[32m232.7/232.7 KB\u001b[0m \u001b[31m32.4 MB/s\u001b[0m eta \u001b[36m0:00:00\u001b[0m\n",
            "\u001b[?25hCollecting Jinja2>=3.0\n",
            "  Downloading Jinja2-3.1.2-py3-none-any.whl (133 kB)\n",
            "\u001b[2K     \u001b[90m━━━━━━━━━━━━━━━━━━━━━━━━━━━━━━━━━━━━━━\u001b[0m \u001b[32m133.1/133.1 KB\u001b[0m \u001b[31m20.0 MB/s\u001b[0m eta \u001b[36m0:00:00\u001b[0m\n",
            "\u001b[?25hRequirement already satisfied: importlib-metadata>=3.6.0 in /usr/local/lib/python3.8/dist-packages (from flask>=1.1.1->visualdl->paddleocr>=2.0.1) (6.0.0)\n",
            "Collecting itsdangerous>=2.0\n",
            "  Downloading itsdangerous-2.1.2-py3-none-any.whl (15 kB)\n",
            "Requirement already satisfied: Babel<3.0.0,>=2.11.0 in /usr/local/lib/python3.8/dist-packages (from Flask-Babel>=3.0.0->visualdl->paddleocr>=2.0.1) (2.11.0)\n",
            "Requirement already satisfied: pytz<2023.0,>=2022.7 in /usr/local/lib/python3.8/dist-packages (from Flask-Babel>=3.0.0->visualdl->paddleocr>=2.0.1) (2022.7.1)\n",
            "Requirement already satisfied: MarkupSafe>=2.0 in /usr/local/lib/python3.8/dist-packages (from Jinja2>=3.0->flask>=1.1.1->visualdl->paddleocr>=2.0.1) (2.0.1)\n",
            "Requirement already satisfied: python-dateutil>=2.1 in /usr/local/lib/python3.8/dist-packages (from matplotlib->imgaug->paddleocr>=2.0.1) (2.8.2)\n",
            "Requirement already satisfied: cycler>=0.10 in /usr/local/lib/python3.8/dist-packages (from matplotlib->imgaug->paddleocr>=2.0.1) (0.11.0)\n",
            "Requirement already satisfied: pyparsing!=2.0.4,!=2.1.2,!=2.1.6,>=2.0.1 in /usr/local/lib/python3.8/dist-packages (from matplotlib->imgaug->paddleocr>=2.0.1) (3.0.9)\n",
            "Requirement already satisfied: kiwisolver>=1.0.1 in /usr/local/lib/python3.8/dist-packages (from matplotlib->imgaug->paddleocr>=2.0.1) (1.4.4)\n",
            "Collecting protobuf>=3.11.0\n",
            "  Downloading protobuf-3.20.3-cp38-cp38-manylinux_2_5_x86_64.manylinux1_x86_64.whl (1.0 MB)\n",
            "\u001b[2K     \u001b[90m━━━━━━━━━━━━━━━━━━━━━━━━━━━━━━━━━━━━━━━━\u001b[0m \u001b[32m1.0/1.0 MB\u001b[0m \u001b[31m75.7 MB/s\u001b[0m eta \u001b[36m0:00:00\u001b[0m\n",
            "\u001b[?25hRequirement already satisfied: typing-extensions>=3.6.2.1 in /usr/local/lib/python3.8/dist-packages (from onnx>=1.6.0->visualdl->paddleocr>=2.0.1) (4.4.0)\n",
            "Requirement already satisfied: future>=0.6.0 in /usr/local/lib/python3.8/dist-packages (from bce-python-sdk->visualdl->paddleocr>=2.0.1) (0.16.0)\n",
            "Collecting pycryptodome>=3.8.0\n",
            "  Downloading pycryptodome-3.17-cp35-abi3-manylinux_2_17_x86_64.manylinux2014_x86_64.whl (2.1 MB)\n",
            "\u001b[2K     \u001b[90m━━━━━━━━━━━━━━━━━━━━━━━━━━━━━━━━━━━━━━━━\u001b[0m \u001b[32m2.1/2.1 MB\u001b[0m \u001b[31m68.9 MB/s\u001b[0m eta \u001b[36m0:00:00\u001b[0m\n",
            "\u001b[?25hRequirement already satisfied: altair>=4.2.0 in /usr/local/lib/python3.8/dist-packages (from gradio->visualdl->paddleocr>=2.0.1) (4.2.2)\n",
            "Collecting aiofiles\n",
            "  Downloading aiofiles-23.1.0-py3-none-any.whl (14 kB)\n",
            "Requirement already satisfied: pyyaml in /usr/local/lib/python3.8/dist-packages (from gradio->visualdl->paddleocr>=2.0.1) (6.0)\n",
            "Requirement already satisfied: aiohttp in /usr/local/lib/python3.8/dist-packages (from gradio->visualdl->paddleocr>=2.0.1) (3.8.3)\n",
            "Collecting uvicorn\n",
            "  Downloading uvicorn-0.20.0-py3-none-any.whl (56 kB)\n",
            "\u001b[2K     \u001b[90m━━━━━━━━━━━━━━━━━━━━━━━━━━━━━━━━━━━━━━━━\u001b[0m \u001b[32m56.9/56.9 KB\u001b[0m \u001b[31m7.4 MB/s\u001b[0m eta \u001b[36m0:00:00\u001b[0m\n",
            "\u001b[?25hRequirement already satisfied: fsspec in /usr/local/lib/python3.8/dist-packages (from gradio->visualdl->paddleocr>=2.0.1) (2023.1.0)\n",
            "Requirement already satisfied: pydantic in /usr/local/lib/python3.8/dist-packages (from gradio->visualdl->paddleocr>=2.0.1) (1.10.4)\n",
            "Collecting websockets>=10.0\n",
            "  Downloading websockets-10.4-cp38-cp38-manylinux_2_5_x86_64.manylinux1_x86_64.manylinux_2_17_x86_64.manylinux2014_x86_64.whl (106 kB)\n",
            "\u001b[2K     \u001b[90m━━━━━━━━━━━━━━━━━━━━━━━━━━━━━━━━━━━━━━\u001b[0m \u001b[32m107.0/107.0 KB\u001b[0m \u001b[31m16.9 MB/s\u001b[0m eta \u001b[36m0:00:00\u001b[0m\n",
            "\u001b[?25hCollecting ffmpy\n",
            "  Downloading ffmpy-0.3.0.tar.gz (4.8 kB)\n",
            "  Preparing metadata (setup.py) ... \u001b[?25l\u001b[?25hdone\n",
            "Collecting markdown-it-py[linkify,plugins]>=2.0.0\n",
            "  Downloading markdown_it_py-2.1.0-py3-none-any.whl (84 kB)\n",
            "\u001b[2K     \u001b[90m━━━━━━━━━━━━━━━━━━━━━━━━━━━━━━━━━━━━━━━━\u001b[0m \u001b[32m84.5/84.5 KB\u001b[0m \u001b[31m10.9 MB/s\u001b[0m eta \u001b[36m0:00:00\u001b[0m\n",
            "\u001b[?25hCollecting python-multipart\n",
            "  Downloading python-multipart-0.0.5.tar.gz (32 kB)\n",
            "  Preparing metadata (setup.py) ... \u001b[?25l\u001b[?25hdone\n",
            "Collecting fastapi\n",
            "  Downloading fastapi-0.90.0-py3-none-any.whl (56 kB)\n",
            "\u001b[2K     \u001b[90m━━━━━━━━━━━━━━━━━━━━━━━━━━━━━━━━━━━━━━━━\u001b[0m \u001b[32m56.0/56.0 KB\u001b[0m \u001b[31m7.8 MB/s\u001b[0m eta \u001b[36m0:00:00\u001b[0m\n",
            "\u001b[?25hCollecting pydub\n",
            "  Downloading pydub-0.25.1-py2.py3-none-any.whl (32 kB)\n",
            "Collecting httpx\n",
            "  Downloading httpx-0.23.3-py3-none-any.whl (71 kB)\n",
            "\u001b[2K     \u001b[90m━━━━━━━━━━━━━━━━━━━━━━━━━━━━━━━━━━━━━━━━\u001b[0m \u001b[32m71.5/71.5 KB\u001b[0m \u001b[31m11.6 MB/s\u001b[0m eta \u001b[36m0:00:00\u001b[0m\n",
            "\u001b[?25hCollecting orjson\n",
            "  Downloading orjson-3.8.6-cp38-cp38-manylinux_2_28_x86_64.whl (140 kB)\n",
            "\u001b[2K     \u001b[90m━━━━━━━━━━━━━━━━━━━━━━━━━━━━━━━━━━━━━━\u001b[0m \u001b[32m140.7/140.7 KB\u001b[0m \u001b[31m19.5 MB/s\u001b[0m eta \u001b[36m0:00:00\u001b[0m\n",
            "\u001b[?25hRequirement already satisfied: dill>=0.3.6 in /usr/local/lib/python3.8/dist-packages (from multiprocess->visualdl->paddleocr>=2.0.1) (0.3.6)\n",
            "Requirement already satisfied: idna<3,>=2.5 in /usr/local/lib/python3.8/dist-packages (from requests->premailer->paddleocr>=2.0.1) (2.10)\n",
            "Requirement already satisfied: certifi>=2017.4.17 in /usr/local/lib/python3.8/dist-packages (from requests->premailer->paddleocr>=2.0.1) (2022.12.7)\n",
            "Requirement already satisfied: chardet<5,>=3.0.2 in /usr/local/lib/python3.8/dist-packages (from requests->premailer->paddleocr>=2.0.1) (4.0.0)\n",
            "Requirement already satisfied: urllib3<1.27,>=1.21.1 in /usr/local/lib/python3.8/dist-packages (from requests->premailer->paddleocr>=2.0.1) (1.24.3)\n",
            "Collecting python-rapidjson>=0.9.1\n",
            "  Downloading python_rapidjson-1.9-cp38-cp38-manylinux_2_17_x86_64.manylinux2014_x86_64.whl (1.6 MB)\n",
            "\u001b[2K     \u001b[90m━━━━━━━━━━━━━━━━━━━━━━━━━━━━━━━━━━━━━━━━\u001b[0m \u001b[32m1.6/1.6 MB\u001b[0m \u001b[31m86.1 MB/s\u001b[0m eta \u001b[36m0:00:00\u001b[0m\n",
            "\u001b[?25hRequirement already satisfied: grpcio>=1.41.0 in /usr/local/lib/python3.8/dist-packages (from tritonclient[all]->visualdl->paddleocr>=2.0.1) (1.51.1)\n",
            "Collecting geventhttpclient<=2.0.2,>=1.4.4\n",
            "  Downloading geventhttpclient-2.0.2-cp38-cp38-manylinux_2_5_x86_64.manylinux1_x86_64.manylinux_2_17_x86_64.manylinux2014_x86_64.whl (100 kB)\n",
            "\u001b[2K     \u001b[90m━━━━━━━━━━━━━━━━━━━━━━━━━━━━━━━━━━━━━━\u001b[0m \u001b[32m100.9/100.9 KB\u001b[0m \u001b[31m15.5 MB/s\u001b[0m eta \u001b[36m0:00:00\u001b[0m\n",
            "\u001b[?25hRequirement already satisfied: sympy in /usr/local/lib/python3.8/dist-packages (from x2paddle->visualdl->paddleocr>=2.0.1) (1.7.1)\n",
            "Requirement already satisfied: aiosignal>=1.1.2 in /usr/local/lib/python3.8/dist-packages (from aiohttp->gradio->visualdl->paddleocr>=2.0.1) (1.3.1)\n",
            "Requirement already satisfied: async-timeout<5.0,>=4.0.0a3 in /usr/local/lib/python3.8/dist-packages (from aiohttp->gradio->visualdl->paddleocr>=2.0.1) (4.0.2)\n",
            "Requirement already satisfied: charset-normalizer<3.0,>=2.0 in /usr/local/lib/python3.8/dist-packages (from aiohttp->gradio->visualdl->paddleocr>=2.0.1) (2.1.1)\n",
            "Requirement already satisfied: yarl<2.0,>=1.0 in /usr/local/lib/python3.8/dist-packages (from aiohttp->gradio->visualdl->paddleocr>=2.0.1) (1.8.2)\n",
            "Requirement already satisfied: multidict<7.0,>=4.5 in /usr/local/lib/python3.8/dist-packages (from aiohttp->gradio->visualdl->paddleocr>=2.0.1) (6.0.4)\n",
            "Requirement already satisfied: frozenlist>=1.1.1 in /usr/local/lib/python3.8/dist-packages (from aiohttp->gradio->visualdl->paddleocr>=2.0.1) (1.3.3)\n",
            "Requirement already satisfied: attrs>=17.3.0 in /usr/local/lib/python3.8/dist-packages (from aiohttp->gradio->visualdl->paddleocr>=2.0.1) (22.2.0)\n",
            "Requirement already satisfied: entrypoints in /usr/local/lib/python3.8/dist-packages (from altair>=4.2.0->gradio->visualdl->paddleocr>=2.0.1) (0.4)\n",
            "Requirement already satisfied: toolz in /usr/local/lib/python3.8/dist-packages (from altair>=4.2.0->gradio->visualdl->paddleocr>=2.0.1) (0.12.0)\n",
            "Requirement already satisfied: jsonschema>=3.0 in /usr/local/lib/python3.8/dist-packages (from altair>=4.2.0->gradio->visualdl->paddleocr>=2.0.1) (4.3.3)\n",
            "Collecting brotli\n",
            "  Downloading Brotli-1.0.9-cp38-cp38-manylinux1_x86_64.whl (357 kB)\n",
            "\u001b[2K     \u001b[90m━━━━━━━━━━━━━━━━━━━━━━━━━━━━━━━━━━━━━━\u001b[0m \u001b[32m357.2/357.2 KB\u001b[0m \u001b[31m37.9 MB/s\u001b[0m eta \u001b[36m0:00:00\u001b[0m\n",
            "\u001b[?25hCollecting gevent>=0.13\n",
            "  Downloading gevent-22.10.2-cp38-cp38-manylinux_2_17_x86_64.manylinux2014_x86_64.whl (6.5 MB)\n",
            "\u001b[2K     \u001b[90m━━━━━━━━━━━━━━━━━━━━━━━━━━━━━━━━━━━━━━━━\u001b[0m \u001b[32m6.5/6.5 MB\u001b[0m \u001b[31m80.6 MB/s\u001b[0m eta \u001b[36m0:00:00\u001b[0m\n",
            "\u001b[?25hRequirement already satisfied: zipp>=0.5 in /usr/local/lib/python3.8/dist-packages (from importlib-metadata>=3.6.0->flask>=1.1.1->visualdl->paddleocr>=2.0.1) (3.12.0)\n",
            "Collecting mdurl~=0.1\n",
            "  Downloading mdurl-0.1.2-py3-none-any.whl (10.0 kB)\n",
            "Collecting mdit-py-plugins\n",
            "  Downloading mdit_py_plugins-0.3.3-py3-none-any.whl (50 kB)\n",
            "\u001b[2K     \u001b[90m━━━━━━━━━━━━━━━━━━━━━━━━━━━━━━━━━━━━━━━━\u001b[0m \u001b[32m50.5/50.5 KB\u001b[0m \u001b[31m6.9 MB/s\u001b[0m eta \u001b[36m0:00:00\u001b[0m\n",
            "\u001b[?25hCollecting linkify-it-py~=1.0\n",
            "  Downloading linkify_it_py-1.0.3-py3-none-any.whl (19 kB)\n",
            "Collecting MarkupSafe>=2.0\n",
            "  Downloading MarkupSafe-2.1.2-cp38-cp38-manylinux_2_17_x86_64.manylinux2014_x86_64.whl (25 kB)\n",
            "Collecting starlette<=0.23.0,>=0.22.0\n",
            "  Downloading starlette-0.23.0-py3-none-any.whl (64 kB)\n",
            "\u001b[2K     \u001b[90m━━━━━━━━━━━━━━━━━━━━━━━━━━━━━━━━━━━━━━━━\u001b[0m \u001b[32m64.5/64.5 KB\u001b[0m \u001b[31m9.7 MB/s\u001b[0m eta \u001b[36m0:00:00\u001b[0m\n",
            "\u001b[?25hCollecting rfc3986[idna2008]<2,>=1.3\n",
            "  Downloading rfc3986-1.5.0-py2.py3-none-any.whl (31 kB)\n",
            "Collecting sniffio\n",
            "  Downloading sniffio-1.3.0-py3-none-any.whl (10 kB)\n",
            "Collecting httpcore<0.17.0,>=0.15.0\n",
            "  Downloading httpcore-0.16.3-py3-none-any.whl (69 kB)\n",
            "\u001b[2K     \u001b[90m━━━━━━━━━━━━━━━━━━━━━━━━━━━━━━━━━━━━━━━━\u001b[0m \u001b[32m69.6/69.6 KB\u001b[0m \u001b[31m10.9 MB/s\u001b[0m eta \u001b[36m0:00:00\u001b[0m\n",
            "\u001b[?25hRequirement already satisfied: mpmath>=0.19 in /usr/local/lib/python3.8/dist-packages (from sympy->x2paddle->visualdl->paddleocr>=2.0.1) (1.2.1)\n",
            "Collecting h11>=0.8\n",
            "  Downloading h11-0.14.0-py3-none-any.whl (58 kB)\n",
            "\u001b[2K     \u001b[90m━━━━━━━━━━━━━━━━━━━━━━━━━━━━━━━━━━━━━━━━\u001b[0m \u001b[32m58.3/58.3 KB\u001b[0m \u001b[31m9.6 MB/s\u001b[0m eta \u001b[36m0:00:00\u001b[0m\n",
            "\u001b[?25hCollecting zope.interface\n",
            "  Downloading zope.interface-5.5.2-cp38-cp38-manylinux_2_5_x86_64.manylinux1_x86_64.manylinux_2_12_x86_64.manylinux2010_x86_64.whl (261 kB)\n",
            "\u001b[2K     \u001b[90m━━━━━━━━━━━━━━━━━━━━━━━━━━━━━━━━━━━━━━\u001b[0m \u001b[32m261.4/261.4 KB\u001b[0m \u001b[31m33.4 MB/s\u001b[0m eta \u001b[36m0:00:00\u001b[0m\n",
            "\u001b[?25hCollecting zope.event\n",
            "  Downloading zope.event-4.6-py2.py3-none-any.whl (6.8 kB)\n",
            "Requirement already satisfied: greenlet>=2.0.0 in /usr/local/lib/python3.8/dist-packages (from gevent>=0.13->geventhttpclient<=2.0.2,>=1.4.4->tritonclient[all]->visualdl->paddleocr>=2.0.1) (2.0.2)\n",
            "Requirement already satisfied: setuptools in /usr/local/lib/python3.8/dist-packages (from gevent>=0.13->geventhttpclient<=2.0.2,>=1.4.4->tritonclient[all]->visualdl->paddleocr>=2.0.1) (57.4.0)\n",
            "Collecting anyio<5.0,>=3.0\n",
            "  Downloading anyio-3.6.2-py3-none-any.whl (80 kB)\n",
            "\u001b[2K     \u001b[90m━━━━━━━━━━━━━━━━━━━━━━━━━━━━━━━━━━━━━━━━\u001b[0m \u001b[32m80.6/80.6 KB\u001b[0m \u001b[31m12.4 MB/s\u001b[0m eta \u001b[36m0:00:00\u001b[0m\n",
            "\u001b[?25hRequirement already satisfied: pyrsistent!=0.17.0,!=0.17.1,!=0.17.2,>=0.14.0 in /usr/local/lib/python3.8/dist-packages (from jsonschema>=3.0->altair>=4.2.0->gradio->visualdl->paddleocr>=2.0.1) (0.19.3)\n",
            "Requirement already satisfied: importlib-resources>=1.4.0 in /usr/local/lib/python3.8/dist-packages (from jsonschema>=3.0->altair>=4.2.0->gradio->visualdl->paddleocr>=2.0.1) (5.10.2)\n",
            "Collecting uc-micro-py\n",
            "  Downloading uc_micro_py-1.0.1-py3-none-any.whl (6.2 kB)\n",
            "Building wheels for collected packages: fire, python-docx, ffmpy, python-multipart\n",
            "  Building wheel for fire (setup.py) ... \u001b[?25l\u001b[?25hdone\n",
            "  Created wheel for fire: filename=fire-0.5.0-py2.py3-none-any.whl size=116949 sha256=1ba6f0984019e9b1e8b47443eb488cb6483c0b250a2b99bd173f84bbd0ca0296\n",
            "  Stored in directory: /root/.cache/pip/wheels/5b/eb/43/7295e71293b218ddfd627f935229bf54af9018add7fbb5aac6\n",
            "  Building wheel for python-docx (setup.py) ... \u001b[?25l\u001b[?25hdone\n",
            "  Created wheel for python-docx: filename=python_docx-0.8.11-py3-none-any.whl size=184505 sha256=dc99039ecb92099f7ead01f809e8265cccbeb25efda888cf83b1d431d07115ee\n",
            "  Stored in directory: /root/.cache/pip/wheels/32/b8/b2/c4c2b95765e615fe139b0b17b5ea7c0e1b6519b0a9ec8fb34d\n",
            "  Building wheel for ffmpy (setup.py) ... \u001b[?25l\u001b[?25hdone\n",
            "  Created wheel for ffmpy: filename=ffmpy-0.3.0-py3-none-any.whl size=4711 sha256=9902813f300cde3bd773b4177927275d625a198934458c2826d1aa3e82b361df\n",
            "  Stored in directory: /root/.cache/pip/wheels/ff/5b/59/913b443e7369dc04b61f607a746b6f7d83fb65e2e19fcc958d\n",
            "  Building wheel for python-multipart (setup.py) ... \u001b[?25l\u001b[?25hdone\n",
            "  Created wheel for python-multipart: filename=python_multipart-0.0.5-py3-none-any.whl size=31678 sha256=fafb33115bb682b4a99019f305f86b9eccab5b59f08b26bbef46d41bba499ce8\n",
            "  Stored in directory: /root/.cache/pip/wheels/9e/fc/1c/cf980e6413d3ee8e70cd8f39e2366b0f487e3e221aeb452eb0\n",
            "Successfully built fire python-docx ffmpy python-multipart\n",
            "Installing collected packages: rfc3986, rarfile, pydub, pyclipper, ffmpy, brotli, zope.interface, zope.event, websockets, uc-micro-py, sniffio, rapidfuzz, python-rapidjson, python-multipart, python-docx, PyMuPDF, pycryptodome, protobuf, orjson, multiprocess, mdurl, MarkupSafe, itsdangerous, h11, fonttools, fire, cssutils, cssselect, click, attrdict, aiofiles, x2paddle, Werkzeug, uvicorn, tritonclient, premailer, pdf2docx, onnx, markdown-it-py, linkify-it-py, Jinja2, gevent, bce-python-sdk, anyio, starlette, mdit-py-plugins, httpcore, geventhttpclient, flask, httpx, Flask-Babel, fastapi, gradio, visualdl, paddleocr\n",
            "  Attempting uninstall: protobuf\n",
            "    Found existing installation: protobuf 3.19.6\n",
            "    Uninstalling protobuf-3.19.6:\n",
            "      Successfully uninstalled protobuf-3.19.6\n",
            "  Attempting uninstall: MarkupSafe\n",
            "    Found existing installation: MarkupSafe 2.0.1\n",
            "    Uninstalling MarkupSafe-2.0.1:\n",
            "      Successfully uninstalled MarkupSafe-2.0.1\n",
            "  Attempting uninstall: itsdangerous\n",
            "    Found existing installation: itsdangerous 1.1.0\n",
            "    Uninstalling itsdangerous-1.1.0:\n",
            "      Successfully uninstalled itsdangerous-1.1.0\n",
            "  Attempting uninstall: click\n",
            "    Found existing installation: click 7.1.2\n",
            "    Uninstalling click-7.1.2:\n",
            "      Successfully uninstalled click-7.1.2\n",
            "  Attempting uninstall: Werkzeug\n",
            "    Found existing installation: Werkzeug 1.0.1\n",
            "    Uninstalling Werkzeug-1.0.1:\n",
            "      Successfully uninstalled Werkzeug-1.0.1\n",
            "  Attempting uninstall: Jinja2\n",
            "    Found existing installation: Jinja2 2.11.3\n",
            "    Uninstalling Jinja2-2.11.3:\n",
            "      Successfully uninstalled Jinja2-2.11.3\n",
            "  Attempting uninstall: flask\n",
            "    Found existing installation: Flask 1.1.4\n",
            "    Uninstalling Flask-1.1.4:\n",
            "      Successfully uninstalled Flask-1.1.4\n",
            "\u001b[31mERROR: pip's dependency resolver does not currently take into account all the packages that are installed. This behaviour is the source of the following dependency conflicts.\n",
            "tensorflow 2.9.2 requires protobuf<3.20,>=3.9.2, but you have protobuf 3.20.3 which is incompatible.\n",
            "tensorboard 2.9.1 requires protobuf<3.20,>=3.9.2, but you have protobuf 3.20.3 which is incompatible.\n",
            "notebook 5.7.16 requires jinja2<=3.0.0, but you have jinja2 3.1.2 which is incompatible.\u001b[0m\u001b[31m\n",
            "\u001b[0mSuccessfully installed Flask-Babel-3.0.1 Jinja2-3.1.2 MarkupSafe-2.1.2 PyMuPDF-1.20.2 Werkzeug-2.2.2 aiofiles-23.1.0 anyio-3.6.2 attrdict-2.0.1 bce-python-sdk-0.8.79 brotli-1.0.9 click-8.1.3 cssselect-1.2.0 cssutils-2.6.0 fastapi-0.90.0 ffmpy-0.3.0 fire-0.5.0 flask-2.2.2 fonttools-4.38.0 gevent-22.10.2 geventhttpclient-2.0.2 gradio-3.18.0 h11-0.14.0 httpcore-0.16.3 httpx-0.23.3 itsdangerous-2.1.2 linkify-it-py-1.0.3 markdown-it-py-2.1.0 mdit-py-plugins-0.3.3 mdurl-0.1.2 multiprocess-0.70.14 onnx-1.13.0 orjson-3.8.6 paddleocr-2.6.1.3 pdf2docx-0.5.6 premailer-3.10.0 protobuf-3.20.3 pyclipper-1.3.0.post4 pycryptodome-3.17 pydub-0.25.1 python-docx-0.8.11 python-multipart-0.0.5 python-rapidjson-1.9 rapidfuzz-2.13.7 rarfile-4.0 rfc3986-1.5.0 sniffio-1.3.0 starlette-0.23.0 tritonclient-2.30.0 uc-micro-py-1.0.1 uvicorn-0.20.0 visualdl-2.5.0 websockets-10.4 x2paddle-1.4.0 zope.event-4.6 zope.interface-5.5.2\n",
            "Looking in indexes: https://pypi.org/simple, https://us-python.pkg.dev/colab-wheels/public/simple/\n",
            "Collecting protobuf==3.20.0\n",
            "  Downloading protobuf-3.20.0-cp38-cp38-manylinux_2_5_x86_64.manylinux1_x86_64.whl (1.0 MB)\n",
            "\u001b[2K     \u001b[90m━━━━━━━━━━━━━━━━━━━━━━━━━━━━━━━━━━━━━━━━\u001b[0m \u001b[32m1.0/1.0 MB\u001b[0m \u001b[31m36.4 MB/s\u001b[0m eta \u001b[36m0:00:00\u001b[0m\n",
            "\u001b[?25hInstalling collected packages: protobuf\n",
            "  Attempting uninstall: protobuf\n",
            "    Found existing installation: protobuf 3.20.3\n",
            "    Uninstalling protobuf-3.20.3:\n",
            "      Successfully uninstalled protobuf-3.20.3\n",
            "\u001b[31mERROR: pip's dependency resolver does not currently take into account all the packages that are installed. This behaviour is the source of the following dependency conflicts.\n",
            "tensorflow 2.9.2 requires protobuf<3.20,>=3.9.2, but you have protobuf 3.20.0 which is incompatible.\n",
            "tensorboard 2.9.1 requires protobuf<3.20,>=3.9.2, but you have protobuf 3.20.0 which is incompatible.\n",
            "onnx 1.13.0 requires protobuf<4,>=3.20.2, but you have protobuf 3.20.0 which is incompatible.\n",
            "googleapis-common-protos 1.58.0 requires protobuf!=3.20.0,!=3.20.1,!=4.21.1,!=4.21.2,!=4.21.3,!=4.21.4,!=4.21.5,<5.0.0dev,>=3.19.5, but you have protobuf 3.20.0 which is incompatible.\n",
            "google-cloud-translate 3.8.4 requires protobuf!=3.20.0,!=3.20.1,!=4.21.0,!=4.21.1,!=4.21.2,!=4.21.3,!=4.21.4,!=4.21.5,<5.0.0dev,>=3.19.5, but you have protobuf 3.20.0 which is incompatible.\n",
            "google-cloud-language 2.6.1 requires protobuf!=3.20.0,!=3.20.1,!=4.21.0,!=4.21.1,!=4.21.2,!=4.21.3,!=4.21.4,!=4.21.5,<5.0.0dev,>=3.19.5, but you have protobuf 3.20.0 which is incompatible.\n",
            "google-cloud-firestore 2.7.3 requires protobuf!=3.20.0,!=3.20.1,!=4.21.0,!=4.21.1,!=4.21.2,!=4.21.3,!=4.21.4,!=4.21.5,<5.0.0dev,>=3.19.5, but you have protobuf 3.20.0 which is incompatible.\n",
            "google-cloud-datastore 2.11.1 requires protobuf!=3.20.0,!=3.20.1,!=4.21.0,!=4.21.1,!=4.21.2,!=4.21.3,!=4.21.4,!=4.21.5,<5.0.0dev,>=3.19.5, but you have protobuf 3.20.0 which is incompatible.\n",
            "google-cloud-bigquery 3.4.2 requires protobuf!=3.20.0,!=3.20.1,!=4.21.0,!=4.21.1,!=4.21.2,!=4.21.3,!=4.21.4,!=4.21.5,<5.0.0dev,>=3.19.5, but you have protobuf 3.20.0 which is incompatible.\n",
            "google-cloud-bigquery-storage 2.18.1 requires protobuf!=3.20.0,!=3.20.1,!=4.21.0,!=4.21.1,!=4.21.2,!=4.21.3,!=4.21.4,!=4.21.5,<5.0.0dev,>=3.19.5, but you have protobuf 3.20.0 which is incompatible.\n",
            "google-api-core 2.11.0 requires protobuf!=3.20.0,!=3.20.1,!=4.21.0,!=4.21.1,!=4.21.2,!=4.21.3,!=4.21.4,!=4.21.5,<5.0.0dev,>=3.19.5, but you have protobuf 3.20.0 which is incompatible.\u001b[0m\u001b[31m\n",
            "\u001b[0mSuccessfully installed protobuf-3.20.0\n",
            "Cloning into 'PaddleOCR'...\n",
            "remote: Enumerating objects: 45598, done.\u001b[K\n",
            "remote: Counting objects: 100% (393/393), done.\u001b[K\n",
            "remote: Compressing objects: 100% (294/294), done.\u001b[K\n",
            "remote: Total 45598 (delta 167), reused 296 (delta 95), pack-reused 45205\u001b[K\n",
            "Receiving objects: 100% (45598/45598), 338.91 MiB | 23.26 MiB/s, done.\n",
            "Resolving deltas: 100% (32090/32090), done.\n"
          ]
        }
      ]
    },
    {
      "cell_type": "code",
      "source": [],
      "metadata": {
        "id": "IXEKTAa2_10K"
      },
      "execution_count": null,
      "outputs": []
    },
    {
      "cell_type": "code",
      "source": [
        "!wget https://paddleocr.bj.bcebos.com/whl/layoutparser-0.0.0-py3-none-any.whl\n",
        "!pip install -U layoutparser-0.0.0-py3-none-any.whl"
      ],
      "metadata": {
        "colab": {
          "base_uri": "https://localhost:8080/"
        },
        "id": "8gWFgGl5CXu6",
        "outputId": "e4869942-58ef-4e34-d2e7-47d7a5fd1276"
      },
      "execution_count": null,
      "outputs": [
        {
          "output_type": "stream",
          "name": "stdout",
          "text": [
            "--2023-02-09 18:12:25--  https://paddleocr.bj.bcebos.com/whl/layoutparser-0.0.0-py3-none-any.whl\n",
            "Resolving paddleocr.bj.bcebos.com (paddleocr.bj.bcebos.com)... 103.235.46.61, 2409:8c04:1001:1002:0:ff:b001:368a\n",
            "Connecting to paddleocr.bj.bcebos.com (paddleocr.bj.bcebos.com)|103.235.46.61|:443... connected.\n",
            "HTTP request sent, awaiting response... 200 OK\n",
            "Length: 19145360 (18M) [application/octet-stream]\n",
            "Saving to: ‘layoutparser-0.0.0-py3-none-any.whl’\n",
            "\n",
            "layoutparser-0.0.0- 100%[===================>]  18.26M  3.96MB/s    in 23s     \n",
            "\n",
            "2023-02-09 18:12:51 (805 KB/s) - ‘layoutparser-0.0.0-py3-none-any.whl’ saved [19145360/19145360]\n",
            "\n",
            "Looking in indexes: https://pypi.org/simple, https://us-python.pkg.dev/colab-wheels/public/simple/\n",
            "Processing ./layoutparser-0.0.0-py3-none-any.whl\n",
            "Requirement already satisfied: numpy in /usr/local/lib/python3.8/dist-packages (from layoutparser==0.0.0) (1.21.6)\n",
            "Requirement already satisfied: pyyaml>=5.1 in /usr/local/lib/python3.8/dist-packages (from layoutparser==0.0.0) (6.0)\n",
            "Requirement already satisfied: pillow in /usr/local/lib/python3.8/dist-packages (from layoutparser==0.0.0) (7.1.2)\n",
            "Requirement already satisfied: tqdm in /usr/local/lib/python3.8/dist-packages (from layoutparser==0.0.0) (4.64.1)\n",
            "Requirement already satisfied: pandas in /usr/local/lib/python3.8/dist-packages (from layoutparser==0.0.0) (1.3.5)\n",
            "Requirement already satisfied: opencv-python in /usr/local/lib/python3.8/dist-packages (from layoutparser==0.0.0) (4.6.0.66)\n",
            "Collecting iopath\n",
            "  Downloading iopath-0.1.10.tar.gz (42 kB)\n",
            "\u001b[2K     \u001b[90m━━━━━━━━━━━━━━━━━━━━━━━━━━━━━━━━━━━━━━━━\u001b[0m \u001b[32m42.2/42.2 KB\u001b[0m \u001b[31m3.5 MB/s\u001b[0m eta \u001b[36m0:00:00\u001b[0m\n",
            "\u001b[?25h  Preparing metadata (setup.py) ... \u001b[?25l\u001b[?25hdone\n",
            "Requirement already satisfied: typing_extensions in /usr/local/lib/python3.8/dist-packages (from iopath->layoutparser==0.0.0) (4.4.0)\n",
            "Collecting portalocker\n",
            "  Downloading portalocker-2.7.0-py2.py3-none-any.whl (15 kB)\n",
            "Requirement already satisfied: python-dateutil>=2.7.3 in /usr/local/lib/python3.8/dist-packages (from pandas->layoutparser==0.0.0) (2.8.2)\n",
            "Requirement already satisfied: pytz>=2017.3 in /usr/local/lib/python3.8/dist-packages (from pandas->layoutparser==0.0.0) (2022.7.1)\n",
            "Requirement already satisfied: six>=1.5 in /usr/local/lib/python3.8/dist-packages (from python-dateutil>=2.7.3->pandas->layoutparser==0.0.0) (1.15.0)\n",
            "Building wheels for collected packages: iopath\n",
            "  Building wheel for iopath (setup.py) ... \u001b[?25l\u001b[?25hdone\n",
            "  Created wheel for iopath: filename=iopath-0.1.10-py3-none-any.whl size=31547 sha256=bd881e0b7ca426265bcd1d7a64f5b381075242e8a99e858cb995f0877e159387\n",
            "  Stored in directory: /root/.cache/pip/wheels/89/3e/24/0f349c0b2eeb6965903035f3b00dbb5c9bea437b4a2f18d82c\n",
            "Successfully built iopath\n",
            "Installing collected packages: portalocker, iopath, layoutparser\n",
            "Successfully installed iopath-0.1.10 layoutparser-0.0.0 portalocker-2.7.0\n"
          ]
        }
      ]
    },
    {
      "cell_type": "markdown",
      "source": [
        "## Table Extraction"
      ],
      "metadata": {
        "id": "w5MA08E0F8aU"
      }
    },
    {
      "cell_type": "code",
      "source": [
        "import cv2\n",
        "import layoutparser as lp\n",
        "image = cv2.imread(\"/content/pages/page0.jpg\")\n",
        "\n",
        "width, height = 1542, 630\n",
        "x1 = 14\n",
        "x2 = x1 + width\n",
        "y1 = 297\n",
        "y2 = y1 + height\n",
        "\n",
        "image = image[y1:y2, x1:x2]\n",
        "\n",
        "# load model\n",
        "model = lp.PaddleDetectionLayoutModel(config_path=\"lp://PubLayNet/ppyolov2_r50vd_dcn_365e_publaynet/config\",\n",
        "                                threshold=0.2,\n",
        "                                label_map={0: \"Text\", 1: \"Title\", 2: \"List\", 3:\"Table\", 4:\"Figure\"},\n",
        "                                enforce_cpu=False,\n",
        "                                enable_mkldnn=True)#math kernel library\n",
        "# detect\n",
        "layout = model.detect(image)"
      ],
      "metadata": {
        "id": "bw9SFYnMCX0E"
      },
      "execution_count": null,
      "outputs": []
    },
    {
      "cell_type": "code",
      "source": [
        "layout"
      ],
      "metadata": {
        "id": "G76oO2WXCX6v",
        "colab": {
          "base_uri": "https://localhost:8080/"
        },
        "outputId": "de01875d-9411-4385-cf56-3a3b732a5db3"
      },
      "execution_count": null,
      "outputs": [
        {
          "output_type": "execute_result",
          "data": {
            "text/plain": [
              "Layout(_blocks=[TextBlock(block=Rectangle(x_1=90.3851318359375, y_1=10.478240966796875, x_2=1541.0, y_2=622.0572509765625), text=None, id=None, type=Table, parent=None, next=None, score=0.7451291084289551), TextBlock(block=Rectangle(x_1=84.2872314453125, y_1=4.246826171875, x_2=1541.0, y_2=618.2701416015625), text=None, id=None, type=Figure, parent=None, next=None, score=0.5492270588874817)], page_data={})"
            ]
          },
          "metadata": {},
          "execution_count": 135
        }
      ]
    },
    {
      "cell_type": "markdown",
      "source": [
        "Each element in the list has several attributes:\n",
        "\n",
        "    block: a Rectangle object representing the bounding box of the text block\n",
        "    text: the text content of the block (this is set to None in this case)\n",
        "    id: an identifier for the block (also set to None)\n",
        "    type: the type of the text block, which can be either Table or Figure\n",
        "    parent: the parent block (set to None)\n",
        "    next: the next block (also set to None)\n",
        "    score: a score indicating the confidence of the OCR engine in the recognition results\n",
        "\n",
        "The page_data attribute of the Layout instance is a dictionary that contains additional information about the page."
      ],
      "metadata": {
        "id": "HmqUHLUvGySk"
      }
    },
    {
      "cell_type": "code",
      "source": [
        "x_1=0\n",
        "y_1=0\n",
        "x_2=0\n",
        "y_2=0\n",
        "\n",
        "for l in layout:\n",
        "  #print(l)\n",
        "  if l.type == 'Figure':\n",
        "    x_1 = int(l.block.x_1)\n",
        "    print(l.block.x_1)\n",
        "    y_1 = int(l.block.y_1)\n",
        "    x_2 = int(l.block.x_2)\n",
        "    y_2 = int(l.block.y_2)\n",
        "    \n",
        "    break"
      ],
      "metadata": {
        "id": "y3h0kCz-CX_U",
        "colab": {
          "base_uri": "https://localhost:8080/"
        },
        "outputId": "bc650bf3-6185-4b30-fff8-16f1f5a0facb"
      },
      "execution_count": null,
      "outputs": [
        {
          "output_type": "stream",
          "name": "stdout",
          "text": [
            "84.28723\n"
          ]
        }
      ]
    },
    {
      "cell_type": "code",
      "source": [
        "print(x_1,y_1,x_2,y_2)"
      ],
      "metadata": {
        "id": "cdiYPeCJCYIg",
        "colab": {
          "base_uri": "https://localhost:8080/"
        },
        "outputId": "f349b13d-2c88-4c63-bf19-74f37f257efd"
      },
      "execution_count": null,
      "outputs": [
        {
          "output_type": "stream",
          "name": "stdout",
          "text": [
            "84 4 1541 618\n"
          ]
        }
      ]
    },
    {
      "cell_type": "code",
      "source": [
        "im = image"
      ],
      "metadata": {
        "id": "F39kJV3hCYLV"
      },
      "execution_count": null,
      "outputs": []
    },
    {
      "cell_type": "code",
      "source": [
        "cv2.imwrite('ext_im.jpg', im[y_1:y_2,x_1:x_2])"
      ],
      "metadata": {
        "id": "EQDXSNijCYPs",
        "colab": {
          "base_uri": "https://localhost:8080/"
        },
        "outputId": "bd142fd9-810f-4a48-a965-0f6cd4654d27"
      },
      "execution_count": null,
      "outputs": [
        {
          "output_type": "execute_result",
          "data": {
            "text/plain": [
              "True"
            ]
          },
          "metadata": {},
          "execution_count": 141
        }
      ]
    },
    {
      "cell_type": "code",
      "source": [],
      "metadata": {
        "id": "7O2P4aIMor_e"
      },
      "execution_count": null,
      "outputs": []
    },
    {
      "cell_type": "markdown",
      "metadata": {
        "id": "EGwGhHnd8i_h"
      },
      "source": [
        "# Text Detection and Recognition"
      ]
    },
    {
      "cell_type": "code",
      "source": [
        "from paddleocr import PaddleOCR, draw_ocr"
      ],
      "metadata": {
        "id": "N6WQZXhLLDWk"
      },
      "execution_count": null,
      "outputs": []
    },
    {
      "cell_type": "code",
      "source": [
        "ocr = PaddleOCR(lang='en')\n",
        "image_path = '/content/ext_im.jpg'\n",
        "image_cv = cv2.imread(image_path)\n",
        "image_height = image_cv.shape[0]\n",
        "image_width = image_cv.shape[1]\n",
        "output = ocr.ocr(image_path)[0]"
      ],
      "metadata": {
        "colab": {
          "base_uri": "https://localhost:8080/"
        },
        "id": "A8bCZ9AULDZF",
        "outputId": "836da452-f7a4-4bcc-df74-eb69c686af9c"
      },
      "execution_count": null,
      "outputs": [
        {
          "output_type": "stream",
          "name": "stdout",
          "text": [
            "[2023/02/09 19:25:56] ppocr DEBUG: Namespace(alpha=1.0, benchmark=False, beta=1.0, cls_batch_num=6, cls_image_shape='3, 48, 192', cls_model_dir='/root/.paddleocr/whl/cls/ch_ppocr_mobile_v2.0_cls_infer', cls_thresh=0.9, cpu_threads=10, crop_res_save_dir='./output', det=True, det_algorithm='DB', det_box_type='quad', det_db_box_thresh=0.6, det_db_score_mode='fast', det_db_thresh=0.3, det_db_unclip_ratio=1.5, det_east_cover_thresh=0.1, det_east_nms_thresh=0.2, det_east_score_thresh=0.8, det_limit_side_len=960, det_limit_type='max', det_model_dir='/root/.paddleocr/whl/det/en/en_PP-OCRv3_det_infer', det_pse_box_thresh=0.85, det_pse_min_area=16, det_pse_scale=1, det_pse_thresh=0, det_sast_nms_thresh=0.2, det_sast_score_thresh=0.5, draw_img_save_dir='./inference_results', drop_score=0.5, e2e_algorithm='PGNet', e2e_char_dict_path='./ppocr/utils/ic15_dict.txt', e2e_limit_side_len=768, e2e_limit_type='max', e2e_model_dir=None, e2e_pgnet_mode='fast', e2e_pgnet_score_thresh=0.5, e2e_pgnet_valid_set='totaltext', enable_mkldnn=False, fourier_degree=5, gpu_mem=500, help='==SUPPRESS==', image_dir=None, image_orientation=False, ir_optim=True, kie_algorithm='LayoutXLM', label_list=['0', '180'], lang='en', layout=True, layout_dict_path=None, layout_model_dir=None, layout_nms_threshold=0.5, layout_score_threshold=0.5, max_batch_size=10, max_text_length=25, merge_no_span_structure=True, min_subgraph_size=15, mode='structure', ocr=True, ocr_order_method=None, ocr_version='PP-OCRv3', output='./output', page_num=0, precision='fp32', process_id=0, re_model_dir=None, rec=True, rec_algorithm='SVTR_LCNet', rec_batch_num=6, rec_char_dict_path='/usr/local/lib/python3.8/dist-packages/paddleocr/ppocr/utils/en_dict.txt', rec_image_inverse=True, rec_image_shape='3, 48, 320', rec_model_dir='/root/.paddleocr/whl/rec/en/en_PP-OCRv3_rec_infer', recovery=False, save_crop_res=False, save_log_path='./log_output/', scales=[8, 16, 32], ser_dict_path='../train_data/XFUND/class_list_xfun.txt', ser_model_dir=None, show_log=True, sr_batch_num=1, sr_image_shape='3, 32, 128', sr_model_dir=None, structure_version='PP-StructureV2', table=True, table_algorithm='TableAttn', table_char_dict_path=None, table_max_len=488, table_model_dir=None, total_process_num=1, type='ocr', use_angle_cls=False, use_dilation=False, use_gpu=True, use_mp=False, use_npu=False, use_onnx=False, use_pdf2docx_api=False, use_pdserving=False, use_space_char=True, use_tensorrt=False, use_visual_backbone=True, use_xpu=False, vis_font_path='./doc/fonts/simfang.ttf', warmup=False)\n",
            "[2023/02/09 19:25:57] ppocr WARNING: Since the angle classifier is not initialized, the angle classifier will not be uesd during the forward process\n",
            "[2023/02/09 19:25:57] ppocr DEBUG: dt_boxes num : 111, elapse : 0.13309335708618164\n",
            "[2023/02/09 19:25:57] ppocr DEBUG: rec_res num  : 111, elapse : 0.32282257080078125\n"
          ]
        }
      ]
    },
    {
      "cell_type": "code",
      "source": [
        "print(output)"
      ],
      "metadata": {
        "colab": {
          "base_uri": "https://localhost:8080/"
        },
        "id": "VBIDZA0XLDeA",
        "outputId": "7fcd2eaf-5c61-4610-f772-47086e5d1a45"
      },
      "execution_count": null,
      "outputs": [
        {
          "output_type": "stream",
          "name": "stdout",
          "text": [
            "[[[[32.0, 16.0], [240.0, 16.0], [240.0, 41.0], [32.0, 41.0]], ('Blood Unit No.', 0.9169756770133972)], [[[228.0, 13.0], [276.0, 13.0], [276.0, 41.0], [228.0, 41.0]], ('A+', 0.9926852583885193)], [[[530.0, 16.0], [675.0, 16.0], [675.0, 41.0], [530.0, 41.0]], ('Segment No', 0.9857357740402222)], [[[959.0, 15.0], [1173.0, 15.0], [1173.0, 40.0], [959.0, 40.0]], ('Blood Bank Friend', 0.9611632227897644)], [[[1265.0, 10.0], [1456.0, 13.0], [1456.0, 43.0], [1264.0, 40.0]], ('Signature: Jam', 0.9952205419540405)], [[[33.0, 53.0], [317.0, 53.0], [317.0, 74.0], [33.0, 74.0]], ('Place of Donation:KFMC', 0.9258413314819336)], [[[618.0, 50.0], [853.0, 47.0], [853.0, 72.0], [618.0, 75.0]], ('Date:6/2/2023', 0.9709048867225647)], [[[959.0, 50.0], [1249.0, 50.0], [1249.0, 75.0], [959.0, 75.0]], ('Blood Bank Receptionist:', 0.9684247970581055)], [[[1278.0, 47.0], [1380.0, 47.0], [1380.0, 74.0], [1278.0, 74.0]], ('Sara Ali', 0.9407016038894653)], [[[182.0, 87.0], [311.0, 87.0], [311.0, 112.0], [182.0, 112.0]], ('First Name', 0.9809088706970215)], [[[576.0, 84.0], [747.0, 87.0], [746.0, 112.0], [575.0, 109.0]], (\"Father's Name\", 0.9709180593490601)], [[[905.0, 89.0], [1137.0, 89.0], [1137.0, 109.0], [905.0, 109.0]], (\"Grandfather's Name\", 0.9632275104522705)], [[[1273.0, 84.0], [1428.0, 84.0], [1428.0, 114.0], [1273.0, 114.0]], ('Family Name', 0.9546303153038025)], [[[203.0, 120.0], [279.0, 120.0], [279.0, 146.0], [203.0, 146.0]], ('Jamal', 0.9965887069702148)], [[[607.0, 118.0], [697.0, 118.0], [697.0, 145.0], [607.0, 145.0]], ('Ahmad', 0.9987167119979858)], [[[929.0, 123.0], [1078.0, 123.0], [1078.0, 148.0], [929.0, 148.0]], ('Muhammad', 0.9965227246284485)], [[[1254.0, 118.0], [1293.0, 118.0], [1293.0, 148.0], [1254.0, 148.0]], ('Ali', 0.995299756526947)], [[[30.0, 158.0], [310.0, 158.0], [310.0, 183.0], [30.0, 183.0]], ('National ID No./Iqama', 0.9256952404975891)], [[[498.0, 152.0], [530.0, 159.0], [523.0, 185.0], [492.0, 177.0]], ('1', 0.9962967038154602)], [[[551.0, 155.0], [578.0, 155.0], [578.0, 180.0], [551.0, 180.0]], ('0', 0.8567476272583008)], [[[607.0, 155.0], [637.0, 155.0], [637.0, 180.0], [607.0, 180.0]], ('7', 0.9970852732658386)], [[[721.0, 155.0], [753.0, 155.0], [753.0, 182.0], [721.0, 182.0]], ('2', 0.9991922974586487)], [[[776.0, 155.0], [803.0, 155.0], [803.0, 180.0], [776.0, 180.0]], ('3', 0.9992868304252625)], [[[836.0, 156.0], [858.0, 156.0], [858.0, 179.0], [836.0, 179.0]], ('4', 0.9998948574066162)], [[[898.0, 150.0], [924.0, 160.0], [914.0, 185.0], [888.0, 175.0]], ('0', 0.7784122824668884)], [[[948.0, 159.0], [978.0, 148.0], [987.0, 175.0], [958.0, 185.0]], ('0', 0.8908835053443909)], [[[1005.0, 151.0], [1038.0, 156.0], [1033.0, 183.0], [1001.0, 178.0]], ('0', 0.802970826625824)], [[[652.0, 165.0], [675.0, 149.0], [690.0, 171.0], [666.0, 186.0]], ('5', 0.9214473366737366)], [[[1073.0, 156.0], [1281.0, 156.0], [1281.0, 182.0], [1073.0, 182.0]], (\"Sponsor's Name :\", 0.9358799457550049)], [[[30.0, 193.0], [127.0, 193.0], [127.0, 220.0], [30.0, 220.0]], ('Address', 0.9962797164916992)], [[[252.0, 192.0], [310.0, 192.0], [310.0, 220.0], [252.0, 220.0]], ('City:', 0.9927690625190735)], [[[351.0, 189.0], [404.0, 189.0], [404.0, 217.0], [351.0, 217.0]], ('Taif', 0.9951932430267334)], [[[486.0, 192.0], [554.0, 192.0], [554.0, 218.0], [486.0, 218.0]], ('Area:', 0.988429069519043)], [[[578.0, 190.0], [662.0, 190.0], [662.0, 217.0], [578.0, 217.0]], ('Shihar', 0.9976801872253418)], [[[853.0, 189.0], [1143.0, 187.0], [1143.0, 217.0], [853.0, 218.0]], ('Street: Ali bin abutaleb', 0.9794642925262451)], [[[1207.0, 189.0], [1345.0, 192.0], [1344.0, 219.0], [1206.0, 215.0]], ('Dispensary:', 0.9911523461341858)], [[[264.0, 229.0], [392.0, 229.0], [392.0, 254.0], [264.0, 254.0]], ('Mobile No.', 0.960861325263977)], [[[680.0, 227.0], [829.0, 227.0], [829.0, 252.0], [680.0, 252.0]], ('Date of Birth', 0.9626121520996094)], [[[906.0, 224.0], [957.0, 228.0], [954.0, 257.0], [904.0, 253.0]], ('Age', 0.9983924031257629)], [[[1029.0, 227.0], [1161.0, 227.0], [1161.0, 254.0], [1029.0, 254.0]], ('Occupation', 0.9978553652763367)], [[[1213.0, 226.0], [1348.0, 226.0], [1348.0, 252.0], [1213.0, 252.0]], ('Nationality', 0.9970991611480713)], [[[1393.0, 226.0], [1456.0, 226.0], [1456.0, 254.0], [1393.0, 254.0]], ('Gend', 0.9945449829101562)], [[[82.0, 263.0], [132.0, 263.0], [132.0, 288.0], [82.0, 288.0]], ('966', 0.9991390705108643)], [[[172.0, 263.0], [206.0, 263.0], [206.0, 288.0], [172.0, 288.0]], ('5', 0.9994304776191711)], [[[346.0, 266.0], [361.0, 266.0], [361.0, 282.0], [346.0, 282.0]], ('2', 0.9772230982780457)], [[[396.0, 266.0], [417.0, 266.0], [417.0, 285.0], [396.0, 285.0]], ('7', 0.9886602163314819)], [[[490.0, 267.0], [518.0, 254.0], [530.0, 277.0], [502.0, 291.0]], ('2', 0.980632483959198)], [[[546.0, 263.0], [568.0, 263.0], [568.0, 285.0], [546.0, 285.0]], ('3', 0.9996121525764465)], [[[603.0, 266.0], [624.0, 266.0], [624.0, 283.0], [603.0, 283.0]], ('1', 0.9954785704612732)], [[[639.0, 260.0], [797.0, 260.0], [797.0, 289.0], [639.0, 289.0]], ('1/2/1990', 0.9970146417617798)], [[[906.0, 260.0], [947.0, 260.0], [947.0, 289.0], [906.0, 289.0]], ('33', 0.9996109008789062)], [[[1034.0, 260.0], [1137.0, 260.0], [1137.0, 286.0], [1034.0, 286.0]], ('Teacher', 0.9979760050773621)], [[[1228.0, 258.0], [1304.0, 258.0], [1304.0, 285.0], [1228.0, 285.0]], ('Saudi', 0.9984515905380249)], [[[1378.0, 258.0], [1445.0, 258.0], [1445.0, 285.0], [1378.0, 285.0]], ('Male', 0.9974420666694641)], [[[292.0, 272.0], [309.0, 260.0], [322.0, 277.0], [304.0, 289.0]], ('0', 0.7965463995933533)], [[[26.0, 300.0], [235.0, 297.0], [235.0, 326.0], [26.0, 329.0]], ('Type of Donation', 0.957312822341919)], [[[369.0, 296.0], [519.0, 300.0], [519.0, 326.0], [369.0, 323.0]], ('Voluntary', 0.9901710152626038)], [[[621.0, 298.0], [853.0, 298.0], [853.0, 323.0], [621.0, 323.0]], ('Replacement To:', 0.9505435824394226)], [[[1381.0, 293.0], [1456.0, 297.0], [1456.0, 325.0], [1379.0, 321.0]], ('Others', 0.9447442889213562)], [[[510.0, 334.0], [583.0, 334.0], [583.0, 360.0], [510.0, 360.0]], ('Blood', 0.9979003071784973)], [[[949.0, 331.0], [1240.0, 329.0], [1240.0, 360.0], [949.0, 362.0]], ('General Appearance OK?', 0.966663122177124)], [[[29.0, 351.0], [120.0, 351.0], [120.0, 382.0], [29.0, 382.0]], ('Weight', 0.9984393119812012)], [[[230.0, 348.0], [315.0, 352.0], [313.0, 384.0], [229.0, 380.0]], ('Height', 0.9977774620056152)], [[[383.0, 346.0], [456.0, 352.0], [453.0, 384.0], [380.0, 379.0]], ('Temp', 0.9965142011642456)], [[[647.0, 350.0], [686.0, 350.0], [686.0, 379.0], [647.0, 379.0]], ('Hb', 0.9900479912757874)], [[[732.0, 351.0], [798.0, 351.0], [798.0, 379.0], [732.0, 379.0]], ('Pulse', 0.9975258708000183)], [[[856.0, 351.0], [892.0, 351.0], [892.0, 379.0], [856.0, 379.0]], ('BP', 0.9972686171531677)], [[[1333.0, 347.0], [1456.0, 347.0], [1456.0, 378.0], [1333.0, 378.0]], ('Physician I', 0.9858553409576416)], [[[506.0, 364.0], [588.0, 368.0], [586.0, 399.0], [505.0, 395.0]], ('Group', 0.9981821775436401)], [[[947.0, 365.0], [1040.0, 365.0], [1040.0, 396.0], [947.0, 396.0]], ('Yes', 0.8613659739494324)], [[[1108.0, 366.0], [1156.0, 366.0], [1156.0, 394.0], [1108.0, 394.0]], ('NO', 0.9951983690261841)], [[[61.0, 400.0], [100.0, 400.0], [100.0, 430.0], [61.0, 430.0]], ('87', 0.9991495609283447)], [[[237.0, 401.0], [291.0, 401.0], [291.0, 430.0], [237.0, 430.0]], ('177', 0.9994707703590393)], [[[387.0, 400.0], [449.0, 400.0], [449.0, 428.0], [387.0, 428.0]], ('26.5', 0.9985159039497375)], [[[516.0, 401.0], [560.0, 401.0], [560.0, 430.0], [516.0, 430.0]], ('A+', 0.9901869297027588)], [[[950.0, 403.0], [1017.0, 403.0], [1017.0, 430.0], [950.0, 430.0]], ('Date:', 0.9851216077804565)], [[[94.0, 441.0], [284.0, 441.0], [284.0, 466.0], [94.0, 466.0]], ('Phlebotomist ID', 0.9739868640899658)], [[[422.0, 443.0], [599.0, 443.0], [599.0, 472.0], [422.0, 472.0]], ('Arm Inspection', 0.9790223240852356)], [[[692.0, 440.0], [818.0, 440.0], [818.0, 465.0], [692.0, 465.0]], ('Time Start', 0.9760851860046387)], [[[882.0, 440.0], [1017.0, 440.0], [1017.0, 466.0], [882.0, 466.0]], ('Bag Weight', 0.9689282178878784)], [[[1065.0, 438.0], [1279.0, 438.0], [1279.0, 463.0], [1065.0, 463.0]], ('Time of Collection', 0.9466608762741089)], [[[1316.0, 440.0], [1452.0, 440.0], [1452.0, 466.0], [1316.0, 466.0]], ('Comments:', 0.9945926666259766)], [[[129.0, 474.0], [240.0, 474.0], [240.0, 499.0], [129.0, 499.0]], ('5152714', 0.9993158578872681)], [[[722.0, 474.0], [797.0, 474.0], [797.0, 502.0], [722.0, 502.0]], ('15:00', 0.9706262350082397)], [[[901.0, 467.0], [985.0, 471.0], [984.0, 502.0], [900.0, 498.0]], ('450ml', 0.9978354573249817)], [[[375.0, 477.0], [602.0, 472.0], [603.0, 503.0], [375.0, 508.0]], ('Right Left', 0.9232633709907532)], [[[1125.0, 472.0], [1199.0, 472.0], [1199.0, 500.0], [1125.0, 500.0]], ('15:35', 0.9624143838882446)], [[[1308.0, 474.0], [1455.0, 472.0], [1456.0, 499.0], [1308.0, 500.0]], ('Slow blee', 0.9528746008872986)], [[[375.0, 511.0], [606.0, 511.0], [606.0, 540.0], [375.0, 540.0]], ('Visual inspection of', 0.9647246599197388)], [[[1076.0, 512.0], [1276.0, 509.0], [1277.0, 539.0], [1076.0, 542.0]], ('Confirmed Blood', 0.9612172245979309)], [[[1306.0, 508.0], [1427.0, 503.0], [1429.0, 534.0], [1308.0, 539.0]], ('Aspirin', 0.9941222071647644)], [[[46.0, 533.0], [329.0, 533.0], [329.0, 558.0], [46.0, 558.0]], ('Donor Photo ID Checked', 0.9360944628715515)], [[[698.0, 528.0], [810.0, 528.0], [810.0, 559.0], [698.0, 559.0]], ('Time End', 0.9692501425743103)], [[[872.0, 530.0], [1021.0, 525.0], [1022.0, 556.0], [873.0, 561.0]], ('Sealed By ID', 0.9333896040916443)], [[[373.0, 545.0], [474.0, 545.0], [474.0, 576.0], [373.0, 576.0]], ('bag OK?', 0.9629663228988647)], [[[1138.0, 548.0], [1214.0, 548.0], [1214.0, 574.0], [1138.0, 574.0]], ('Group', 0.9988309144973755)], [[[1340.0, 542.0], [1439.0, 542.0], [1439.0, 568.0], [1340.0, 568.0]], ('Relative', 0.997245192527771)], [[[371.0, 577.0], [488.0, 580.0], [487.0, 611.0], [370.0, 608.0]], ('Yes ', 0.8900076150894165)], [[[484.0, 583.0], [531.0, 583.0], [531.0, 607.0], [484.0, 607.0]], ('No', 0.9934654235839844)], [[[707.0, 583.0], [782.0, 583.0], [782.0, 610.0], [707.0, 610.0]], ('15:55', 0.9383524656295776)], [[[900.0, 580.0], [967.0, 580.0], [967.0, 608.0], [900.0, 608.0]], ('7214', 0.9997539520263672)], [[[1150.0, 580.0], [1194.0, 580.0], [1194.0, 608.0], [1150.0, 608.0]], ('A+', 0.9966090321540833)], [[[1340.0, 577.0], [1449.0, 577.0], [1449.0, 604.0], [1340.0, 604.0]], ('Other ....', 0.909665584564209)]]\n"
          ]
        }
      ]
    },
    {
      "cell_type": "markdown",
      "source": [
        "unpacking the output of the OCR  into three separate lists: boxes, texts, and probabilities. Each element in output is a tuple containing a list of four points representing the bounding box coordinates, and another tuple containing the recognized text and its recognition confidence."
      ],
      "metadata": {
        "id": "Wh_NF2wRHGKB"
      }
    },
    {
      "cell_type": "code",
      "source": [
        "boxes = [line[0] for line in output]\n",
        "texts = [line[1][0] for line in output]\n",
        "probabilities = [line[1][1] for line in output]"
      ],
      "metadata": {
        "id": "nNMBAQ78LDgG"
      },
      "execution_count": null,
      "outputs": []
    },
    {
      "cell_type": "code",
      "source": [
        "image_boxes = image_cv.copy()"
      ],
      "metadata": {
        "id": "uukcg4SWV_dg"
      },
      "execution_count": null,
      "outputs": []
    },
    {
      "cell_type": "markdown",
      "source": [
        "In this section we uses a for loop to iterate through the boxes and texts lists. For each iteration, we draw a rectangle on the image_boxes image, using the bounding box coordinates from the current iteration and a specified color and thickness. The cv2.putText() function is then called to write the recognized text onto the image at the top-left corner of the corresponding bounding box, using a specified font, color, and font size."
      ],
      "metadata": {
        "id": "hfdk8aGTHSSe"
      }
    },
    {
      "cell_type": "code",
      "source": [
        "for box,text in zip(boxes,texts):\n",
        "  cv2.rectangle(image_boxes, (int(box[0][0]),int(box[0][1])), (int(box[2][0]),int(box[2][1])),(0,0,255),1)\n",
        "  cv2.putText(image_boxes, text,(int(box[0][0]),int(box[0][1])),cv2.FONT_HERSHEY_SIMPLEX,1,(222,0,0),1)"
      ],
      "metadata": {
        "id": "l_HzbiA7V_fw"
      },
      "execution_count": null,
      "outputs": []
    },
    {
      "cell_type": "code",
      "source": [
        "cv2.imwrite('detections.jpg', image_boxes)"
      ],
      "metadata": {
        "colab": {
          "base_uri": "https://localhost:8080/"
        },
        "id": "PfUG9mcgV_iJ",
        "outputId": "523035db-5e88-4064-94ee-47a6e48fa033"
      },
      "execution_count": null,
      "outputs": [
        {
          "output_type": "execute_result",
          "data": {
            "text/plain": [
              "True"
            ]
          },
          "metadata": {},
          "execution_count": 148
        }
      ]
    },
    {
      "cell_type": "markdown",
      "metadata": {
        "id": "kYWt0lzDHZNp"
      },
      "source": [
        "# Reconstruction"
      ]
    },
    {
      "cell_type": "markdown",
      "source": [
        "## Get Horizontal and Vertical Lines"
      ],
      "metadata": {
        "id": "ruzifYJz4H6y"
      }
    },
    {
      "cell_type": "code",
      "source": [
        "box"
      ],
      "metadata": {
        "colab": {
          "base_uri": "https://localhost:8080/"
        },
        "id": "gO8A5OJTiTFZ",
        "outputId": "23e2d569-b99a-45b4-9afc-3b07662c52ec"
      },
      "execution_count": null,
      "outputs": [
        {
          "output_type": "execute_result",
          "data": {
            "text/plain": [
              "[[1340.0, 577.0], [1449.0, 577.0], [1449.0, 604.0], [1340.0, 604.0]]"
            ]
          },
          "metadata": {},
          "execution_count": 149
        }
      ]
    },
    {
      "cell_type": "code",
      "source": [
        "im = image_cv.copy()"
      ],
      "metadata": {
        "id": "YLIoKedcqby_"
      },
      "execution_count": null,
      "outputs": []
    },
    {
      "cell_type": "code",
      "source": [],
      "metadata": {
        "id": "Fjpj1YTFji1S"
      },
      "execution_count": null,
      "outputs": []
    },
    {
      "cell_type": "markdown",
      "source": [
        "This code takes the original image stored in image_cv and makes a copy of it to im. It also creates two lists horiz_boxes and vert_boxes to store the horizontal and vertical bounding boxes.\n",
        "\n",
        "For each bounding box in the boxes list, it calculates the position and size of two new boxes: one horizontal and one vertical. The position of the horizontal box is set to the top left corner of the image, and its width is set to the width of the image. The position of the vertical box is set to the left side of the image, and its height is set to the height of the image.\n",
        "\n",
        "The size of the horizontal box is determined by the height of the original bounding box, and the size of the vertical box is determined by the width of the original bounding box. The horizontal and vertical boxes are then appended to the horiz_boxes and vert_boxes lists, respectively.\n",
        "\n",
        "Finally, both boxes are drawn onto the image im using cv2.rectangle(). The first call to cv2.rectangle() draws the horizontal box in red, and the second call draws the vertical box in green."
      ],
      "metadata": {
        "id": "p1qBTEZDjjwc"
      }
    },
    {
      "cell_type": "code",
      "source": [
        "boxes"
      ],
      "metadata": {
        "id": "8R_k06tqlh3P"
      },
      "execution_count": null,
      "outputs": []
    },
    {
      "cell_type": "code",
      "source": [
        "width, height = 590, 32\n",
        "x1 = 555\n",
        "x2 = x1 + width\n",
        "y1 = 157\n",
        "y2 = y1 + height\n",
        "\n",
        "\n",
        "for box in boxes:\n",
        "  x, y = int(box[0][0]), int(box[0][1])\n",
        "  width, height = int(box[2][0] - box[0][0]), int(box[2][1] - box[0][1])\n",
        "  cv2.rectangle(image, (x, y), (x + width, y + height), (0, 0, 255), 1)\n",
        "\n",
        "cv2.imwrite('merged_boxes.jpg', image)\n"
      ],
      "metadata": {
        "colab": {
          "base_uri": "https://localhost:8080/"
        },
        "id": "E-Iv-T5TlEek",
        "outputId": "0bab81b7-62a5-4358-b667-e268652d4ea0"
      },
      "execution_count": null,
      "outputs": [
        {
          "output_type": "execute_result",
          "data": {
            "text/plain": [
              "True"
            ]
          },
          "metadata": {},
          "execution_count": 152
        }
      ]
    },
    {
      "cell_type": "code",
      "source": [
        "horiz_boxes = []\n",
        "vert_boxes = []\n",
        "\n",
        "for box in boxes:\n",
        "  x_h, x_v = 0,int(box[0][0])\n",
        "  y_h, y_v = int(box[0][1]),0\n",
        "  width_h,width_v = image_width, int(box[2][0]-box[0][0])\n",
        "  height_h,height_v = int(box[2][1]-box[0][1]),image_height\n",
        "\n",
        "  horiz_boxes.append([x_h,y_h,x_h+width_h,y_h+height_h])\n",
        "  vert_boxes.append([x_v,y_v,x_v+width_v,y_v+height_v])\n",
        "\n",
        "  cv2.rectangle(im,(x_h,y_h), (x_h+width_h,y_h+height_h),(0,0,255),1)\n",
        "  cv2.rectangle(im,(x_v,y_v), (x_v+width_v,y_v+height_v),(0,255,0),1)\n",
        "  "
      ],
      "metadata": {
        "id": "GwcAAe-wccnF"
      },
      "execution_count": null,
      "outputs": []
    },
    {
      "cell_type": "code",
      "source": [
        "cv2.imwrite('horiz_vert.jpg',im)"
      ],
      "metadata": {
        "colab": {
          "base_uri": "https://localhost:8080/"
        },
        "id": "7UxFGhMkccph",
        "outputId": "5486c39d-45ef-4016-e614-4f6c4434fbd3"
      },
      "execution_count": null,
      "outputs": [
        {
          "output_type": "execute_result",
          "data": {
            "text/plain": [
              "True"
            ]
          },
          "metadata": {},
          "execution_count": 154
        }
      ]
    },
    {
      "cell_type": "markdown",
      "source": [
        "## Non-Max Suppression"
      ],
      "metadata": {
        "id": "ekVFvJrM4ROL"
      }
    },
    {
      "cell_type": "markdown",
      "source": [
        "Non-maximum suppression is a post-processing step often used in object detection and OCR pipelines to eliminate overlapping or highly redundant bounding boxes, so that only the most relevant detections are kept.\n",
        "\n",
        "The tf.image.non_max_suppression() function takes in a set of bounding boxes, as well as their corresponding detection scores (stored in the probabilities array), and returns a list of indices indicating which boxes should be kept after suppression.\n",
        "\n",
        "In the code, horiz_out is the result of applying non-maximum suppression to horiz_boxes using a max_output_size of 1000, and an intersection over union (IoU) threshold of 0.1. The resulting indices are then sorted using np.sort and stored in horiz_lines. A for loop is then used to draw rectangles on the im_nms image for each of the selected horizontal lines.\n",
        "\n",
        "Similarly, vert_out is the result of applying non-maximum suppression to vert_boxes using a max_output_size of 1000 and an IoU threshold of 0.2. The resulting indices are stored in vert_lines, and rectangles are drawn on the im_nms image for each of the selected vertical lines using a different color."
      ],
      "metadata": {
        "id": "PXved7JfHk3q"
      }
    },
    {
      "cell_type": "code",
      "source": [
        "horiz_out = tf.image.non_max_suppression(\n",
        "    horiz_boxes,\n",
        "    probabilities,\n",
        "    max_output_size = 1000,\n",
        "    iou_threshold=0.1,\n",
        "    score_threshold=float('-inf'),\n",
        "    name=None\n",
        ")"
      ],
      "metadata": {
        "id": "4LVSSB2fcoe7"
      },
      "execution_count": null,
      "outputs": []
    },
    {
      "cell_type": "code",
      "source": [
        "horiz_lines = np.sort(np.array(horiz_out))\n",
        "print(horiz_lines)"
      ],
      "metadata": {
        "colab": {
          "base_uri": "https://localhost:8080/"
        },
        "id": "pOboYpGnccr2",
        "outputId": "06e0fea7-dd14-432c-b9fd-3ab968a5879b"
      },
      "execution_count": null,
      "outputs": [
        {
          "output_type": "stream",
          "name": "stdout",
          "text": [
            "[  4   6   9  14  23  33  38  47  56  61  72  81  82  90  95 100]\n"
          ]
        }
      ]
    },
    {
      "cell_type": "code",
      "source": [
        "im_nms = image_cv.copy()"
      ],
      "metadata": {
        "id": "pfxHrn3iccyK"
      },
      "execution_count": null,
      "outputs": []
    },
    {
      "cell_type": "code",
      "source": [
        "for val in horiz_lines:\n",
        "  cv2.rectangle(im_nms, (int(horiz_boxes[val][0]),int(horiz_boxes[val][1])), (int(horiz_boxes[val][2]),int(horiz_boxes[val][3])),(0,0,255),1)\n",
        "  "
      ],
      "metadata": {
        "id": "68PCHfmZcc0L"
      },
      "execution_count": null,
      "outputs": []
    },
    {
      "cell_type": "code",
      "source": [
        "cv2.imwrite('im_nms.jpg',im_nms)"
      ],
      "metadata": {
        "colab": {
          "base_uri": "https://localhost:8080/"
        },
        "id": "Z8r9qpiAcc2X",
        "outputId": "13f00520-08ff-4871-fd35-906e27a7ad2a"
      },
      "execution_count": null,
      "outputs": [
        {
          "output_type": "execute_result",
          "data": {
            "text/plain": [
              "True"
            ]
          },
          "metadata": {},
          "execution_count": 247
        }
      ]
    },
    {
      "cell_type": "code",
      "source": [
        "vert_out = tf.image.non_max_suppression(\n",
        "    vert_boxes,\n",
        "    probabilities,\n",
        "    max_output_size = 1000,\n",
        "    iou_threshold=0.2,\n",
        "    score_threshold=float('-inf'),\n",
        "    name=None\n",
        ")"
      ],
      "metadata": {
        "id": "mKgPuh7rcc4s"
      },
      "execution_count": null,
      "outputs": []
    },
    {
      "cell_type": "code",
      "source": [
        "print(vert_out)"
      ],
      "metadata": {
        "colab": {
          "base_uri": "https://localhost:8080/"
        },
        "id": "GBpKsImVcc6p",
        "outputId": "18ac0269-0838-4164-eb93-56cdd5657bef"
      },
      "execution_count": null,
      "outputs": [
        {
          "output_type": "stream",
          "name": "stdout",
          "text": [
            "tf.Tensor(\n",
            "[ 23 100  47  72  43  22  21  71  95  14  73  52  51  53  66  18  48  31\n",
            "  75  77  44  55   8  26  54], shape=(25,), dtype=int32)\n"
          ]
        }
      ]
    },
    {
      "cell_type": "code",
      "source": [
        "vert_lines = np.sort(np.array(vert_out))\n",
        "print(vert_lines)"
      ],
      "metadata": {
        "colab": {
          "base_uri": "https://localhost:8080/"
        },
        "id": "K0lBh-yz5YLp",
        "outputId": "bc375d71-7539-475c-a086-9f7ef2c590ea"
      },
      "execution_count": null,
      "outputs": [
        {
          "output_type": "stream",
          "name": "stdout",
          "text": [
            "[  8  14  18  21  22  23  26  31  43  44  47  48  51  52  53  54  55  66\n",
            "  71  72  73  75  77  95 100]\n"
          ]
        }
      ]
    },
    {
      "cell_type": "code",
      "source": [
        "for val in vert_lines:\n",
        "  cv2.rectangle(im_nms, (int(vert_boxes[val][0]),int(vert_boxes[val][1])), (int(vert_boxes[val][2]),int(vert_boxes[val][3])),(255,0,0),1)\n",
        "  "
      ],
      "metadata": {
        "id": "WqsLm0L_cc84"
      },
      "execution_count": null,
      "outputs": []
    },
    {
      "cell_type": "code",
      "source": [
        "cv2.imwrite('im_nms.jpg',im_nms)"
      ],
      "metadata": {
        "colab": {
          "base_uri": "https://localhost:8080/"
        },
        "id": "xZOEa7lpcdGM",
        "outputId": "b4b9390c-c4af-4305-91d7-b0859f145115"
      },
      "execution_count": null,
      "outputs": [
        {
          "output_type": "execute_result",
          "data": {
            "text/plain": [
              "True"
            ]
          },
          "metadata": {},
          "execution_count": 278
        }
      ]
    },
    {
      "cell_type": "markdown",
      "source": [
        "## Convert to cleaned array"
      ],
      "metadata": {
        "id": "116eBUrO93-i"
      }
    },
    {
      "cell_type": "markdown",
      "source": [
        "code  performs the following steps:\n",
        "\n",
        "Create an empty 2D array out_array with dimensions (len(horiz_lines), len(vert_lines))\n",
        "\n",
        "  Create an empty list unordered_boxes to store the x-coordinate of the vertical lines\n",
        "\n",
        "  Sort the x-coordinate of the vertical lines and store the indices in ordered_boxes\n",
        "\n",
        "  Define two functions intersection and iou to calculate the intersection of two boxes and the IoU between two boxes, respectively.\n",
        "\n",
        "  Iterate through the cells in the out_array, find the intersection of the corresponding horizontal and vertical lines and calculate the IoU with all the bounding boxes from the input image. If the IoU with a bounding box is above a certain threshold (0.1), assign the text associated with that bounding box to the current cell in out_array.\n",
        "\n",
        "  Finally, convert out_array to a numpy array."
      ],
      "metadata": {
        "id": "H6KHacOqIo3_"
      }
    },
    {
      "cell_type": "code",
      "source": [
        "out_array = [[\"\" for i in range(len(vert_lines))] for j in range(len(horiz_lines))]\n",
        "print(np.array(out_array).shape)\n",
        "print(out_array)"
      ],
      "metadata": {
        "colab": {
          "base_uri": "https://localhost:8080/"
        },
        "id": "HRQzwVUTcdIq",
        "outputId": "b8037d64-0e4a-4d45-e523-40f1b22fb4aa"
      },
      "execution_count": null,
      "outputs": [
        {
          "output_type": "stream",
          "name": "stdout",
          "text": [
            "(16, 25)\n",
            "[['', '', '', '', '', '', '', '', '', '', '', '', '', '', '', '', '', '', '', '', '', '', '', '', ''], ['', '', '', '', '', '', '', '', '', '', '', '', '', '', '', '', '', '', '', '', '', '', '', '', ''], ['', '', '', '', '', '', '', '', '', '', '', '', '', '', '', '', '', '', '', '', '', '', '', '', ''], ['', '', '', '', '', '', '', '', '', '', '', '', '', '', '', '', '', '', '', '', '', '', '', '', ''], ['', '', '', '', '', '', '', '', '', '', '', '', '', '', '', '', '', '', '', '', '', '', '', '', ''], ['', '', '', '', '', '', '', '', '', '', '', '', '', '', '', '', '', '', '', '', '', '', '', '', ''], ['', '', '', '', '', '', '', '', '', '', '', '', '', '', '', '', '', '', '', '', '', '', '', '', ''], ['', '', '', '', '', '', '', '', '', '', '', '', '', '', '', '', '', '', '', '', '', '', '', '', ''], ['', '', '', '', '', '', '', '', '', '', '', '', '', '', '', '', '', '', '', '', '', '', '', '', ''], ['', '', '', '', '', '', '', '', '', '', '', '', '', '', '', '', '', '', '', '', '', '', '', '', ''], ['', '', '', '', '', '', '', '', '', '', '', '', '', '', '', '', '', '', '', '', '', '', '', '', ''], ['', '', '', '', '', '', '', '', '', '', '', '', '', '', '', '', '', '', '', '', '', '', '', '', ''], ['', '', '', '', '', '', '', '', '', '', '', '', '', '', '', '', '', '', '', '', '', '', '', '', ''], ['', '', '', '', '', '', '', '', '', '', '', '', '', '', '', '', '', '', '', '', '', '', '', '', ''], ['', '', '', '', '', '', '', '', '', '', '', '', '', '', '', '', '', '', '', '', '', '', '', '', ''], ['', '', '', '', '', '', '', '', '', '', '', '', '', '', '', '', '', '', '', '', '', '', '', '', '']]\n"
          ]
        }
      ]
    },
    {
      "cell_type": "code",
      "source": [
        "\n",
        "unordered_boxes = []\n",
        "\n",
        "for i in vert_lines:\n",
        "  # print(vert_boxes[i])\n",
        "  unordered_boxes.append(vert_boxes[i][0])"
      ],
      "metadata": {
        "id": "sSrupaRZIAk_"
      },
      "execution_count": null,
      "outputs": []
    },
    {
      "cell_type": "code",
      "source": [
        "ordered_boxes = np.argsort(unordered_boxes)\n",
        "print(ordered_boxes)"
      ],
      "metadata": {
        "colab": {
          "base_uri": "https://localhost:8080/"
        },
        "id": "lRMlVNh_HuJV",
        "outputId": "5e798c77-5012-4e81-e187-7d4225251c70"
      },
      "execution_count": null,
      "outputs": [
        {
          "output_type": "stream",
          "name": "stdout",
          "text": [
            "[16 18  8 19 15  9  7 20 22  2 10 11  1  3  4  5 17 24 21  6 12 23 13  0\n",
            " 14]\n"
          ]
        }
      ]
    },
    {
      "cell_type": "code",
      "source": [
        "def intersection(box_1, box_2):\n",
        "  return [box_2[0], box_1[1],box_2[2], box_1[3]]"
      ],
      "metadata": {
        "id": "AHHaxKUuC6jQ"
      },
      "execution_count": null,
      "outputs": []
    },
    {
      "cell_type": "code",
      "source": [
        "def iou(box_1, box_2):\n",
        "\n",
        "  x_1 = max(box_1[0], box_2[0])\n",
        "  y_1 = max(box_1[1], box_2[1])\n",
        "  x_2 = min(box_1[2], box_2[2])\n",
        "  y_2 = min(box_1[3], box_2[3])\n",
        "\n",
        "  inter = abs(max((x_2 - x_1, 0)) * max((y_2 - y_1), 0))\n",
        "  if inter == 0:\n",
        "      return 0\n",
        "      \n",
        "  box_1_area = abs((box_1[2] - box_1[0]) * (box_1[3] - box_1[1]))\n",
        "  box_2_area = abs((box_2[2] - box_2[0]) * (box_2[3] - box_2[1]))\n",
        "  \n",
        "  return inter / float(box_1_area + box_2_area - inter)"
      ],
      "metadata": {
        "id": "fDVb0DkxJSIf"
      },
      "execution_count": null,
      "outputs": []
    },
    {
      "cell_type": "code",
      "source": [
        "for i in range(len(horiz_lines)):\n",
        "  for j in range(len(vert_lines)):\n",
        "    resultant = intersection(horiz_boxes[horiz_lines[i]], vert_boxes[vert_lines[ordered_boxes[j]]] )\n",
        "\n",
        "    for b in range(len(boxes)):\n",
        "      the_box = [boxes[b][0][0],boxes[b][0][1],boxes[b][2][0],boxes[b][2][1]]\n",
        "      if(iou(resultant,the_box)>0.1):\n",
        "        out_array[i][j] = texts[b]"
      ],
      "metadata": {
        "id": "LWGhCwg6BIoL"
      },
      "execution_count": null,
      "outputs": []
    },
    {
      "cell_type": "code",
      "source": [
        "out_array=np.array(out_array)"
      ],
      "metadata": {
        "id": "c4tEY9LGNIM9"
      },
      "execution_count": null,
      "outputs": []
    },
    {
      "cell_type": "code",
      "source": [
        "out_array"
      ],
      "metadata": {
        "id": "_ekto4-Ymxv2",
        "outputId": "eb2e0dad-aa71-4941-ecdb-165f1eaebb90",
        "colab": {
          "base_uri": "https://localhost:8080/"
        }
      },
      "execution_count": null,
      "outputs": [
        {
          "output_type": "execute_result",
          "data": {
            "text/plain": [
              "array([['Blood Unit No.', 'Blood Unit No.', 'Blood Unit No.', 'A+', '',\n",
              "        '', '', '', 'Segment No', '', 'Segment No', 'Segment No',\n",
              "        'Segment No', '', '', '', '', '', 'Blood Bank Friend',\n",
              "        'Blood Bank Friend', 'Blood Bank Friend', 'Blood Bank Friend',\n",
              "        'Signature: Jam', 'Signature: Jam', 'Signature: Jam'],\n",
              "       ['Place of Donation:KFMC', 'Place of Donation:KFMC',\n",
              "        'Place of Donation:KFMC', 'Place of Donation:KFMC', '', '', '',\n",
              "        '', '', '', '', '', 'Date:6/2/2023', 'Date:6/2/2023',\n",
              "        'Date:6/2/2023', '', '', '', 'Blood Bank Receptionist:', '',\n",
              "        'Blood Bank Receptionist:', 'Blood Bank Receptionist:',\n",
              "        'Sara Ali', 'Sara Ali', ''],\n",
              "       ['First Name', '', 'First Name', 'First Name', 'First Name', '',\n",
              "        '', '', '', '', '', \"Father's Name\", \"Father's Name\",\n",
              "        \"Father's Name\", '', '', '', \"Grandfather's Name\",\n",
              "        \"Grandfather's Name\", \"Grandfather's Name\", \"Grandfather's Name\",\n",
              "        '', 'Family Name', 'Family Name', 'Family Name'],\n",
              "       ['Jamal', '', '', 'Jamal', '', '', '', '', '', '', '', 'Ahmad',\n",
              "        'Ahmad', '', '', '', '', 'Muhammad', 'Muhammad', 'Muhammad',\n",
              "        'Muhammad', '', 'Ali', 'Ali', ''],\n",
              "       ['National ID No./Iqama', 'National ID No./Iqama',\n",
              "        'National ID No./Iqama', 'National ID No./Iqama', '', '', '', '',\n",
              "        '0', '1', '0', '7', '5', '2', '3', '4', '', '0', '0', '0',\n",
              "        \"Sponsor's Name :\", \"Sponsor's Name :\", \"Sponsor's Name :\", '',\n",
              "        ''],\n",
              "       ['Address', 'Address', '', 'City:', 'City:', 'Taif', 'Taif',\n",
              "        'Taif', 'Area:', 'Area:', '', 'Shihar', 'Shihar', '', '', '',\n",
              "        'Street: Ali bin abutaleb', 'Street: Ali bin abutaleb',\n",
              "        'Street: Ali bin abutaleb', '', 'Street: Ali bin abutaleb', '',\n",
              "        'Dispensary:', 'Dispensary:', ''],\n",
              "       ['', '', '', 'Mobile No.', 'Mobile No.', 'Mobile No.',\n",
              "        'Mobile No.', '', '', '', '', '', '', 'Date of Birth',\n",
              "        'Date of Birth', '', '', 'Age', '', '', 'Occupation',\n",
              "        'Occupation', 'Nationality', 'Nationality', 'Gend'],\n",
              "       ['5', '966', '5', '', '0', '2', '7', '7', '3', '2', '3', '1',\n",
              "        '1/2/1990', '1/2/1990', '', '', '', '33', '', '', 'Teacher', '',\n",
              "        'Saudi', 'Saudi', 'Male'],\n",
              "       ['Type of Donation', 'Type of Donation', 'Type of Donation', '',\n",
              "        '', '', 'Voluntary', 'Voluntary', 'Voluntary', 'Voluntary', '',\n",
              "        '', 'Replacement To:', 'Replacement To:', 'Replacement To:', '',\n",
              "        '', '', '', '', '', '', '', '', 'Others'],\n",
              "       ['Weight', 'Weight', '', 'Height', 'Height', '', 'Temp', 'Temp',\n",
              "        'Group', '', 'Group', '', 'Hb', 'Pulse', 'Pulse', '', 'BP', '',\n",
              "        'Yes', 'Yes', 'NO', '', '', 'Physician I', 'Physician I'],\n",
              "       ['87', '87', '', '177', '', '', '26.5', '26.5', 'A+', 'A+', 'A+',\n",
              "        '', '', '', '', '', '', 'Date:', 'Date:', 'Date:', '', '', '',\n",
              "        '', ''],\n",
              "       ['Phlebotomist ID', '', 'Phlebotomist ID', 'Phlebotomist ID', '',\n",
              "        '', '', 'Arm Inspection', 'Arm Inspection', 'Arm Inspection', '',\n",
              "        '', '', 'Time Start', 'Time Start', '', '', 'Bag Weight',\n",
              "        'Bag Weight', '', 'Time of Collection', 'Time of Collection',\n",
              "        'Time of Collection', 'Comments:', 'Comments:'],\n",
              "       ['5152714', '', '5152714', '', '', '', '', 'Right Left',\n",
              "        'Right Left', '', '', '', '', '15:00', '15:00', '', '', '450ml',\n",
              "        '450ml', '', '', '15:35', '', 'Slow blee', 'Slow blee'],\n",
              "       ['', '', '', '', '', '', '', 'Visual inspection of',\n",
              "        'Visual inspection of', '', '', '', '', '', '', '', '', '', '',\n",
              "        '', 'Confirmed Blood', 'Confirmed Blood', 'Confirmed Blood',\n",
              "        'Aspirin', 'Aspirin'],\n",
              "       ['Donor Photo ID Checked', '', '', '', '', '', 'bag OK?',\n",
              "        'bag OK?', 'bag OK?', '', '', '', '', '', '', '', '',\n",
              "        'Sealed By ID', 'Sealed By ID', '', '', 'Group', '', 'Relative',\n",
              "        'Relative'],\n",
              "       ['', '', '', '', '', '', 'Yes ', 'Yes ', 'No', 'No', '', '', '',\n",
              "        '15:55', '', '', '', '7214', '7214', '', '', 'A+', '',\n",
              "        'Other ....', 'Other ....']], dtype='<U24')"
            ]
          },
          "metadata": {},
          "execution_count": 286
        }
      ]
    },
    {
      "cell_type": "code",
      "source": [
        "np.save('myarr.npy',out_array)"
      ],
      "metadata": {
        "id": "yxcf3rNJrOCr"
      },
      "execution_count": null,
      "outputs": []
    },
    {
      "cell_type": "code",
      "source": [
        "pd.DataFrame(out_array).to_csv('LB-FO-P&P-46-03.csv')"
      ],
      "metadata": {
        "id": "D8UdX80wBI9V"
      },
      "execution_count": null,
      "outputs": []
    }
  ],
  "metadata": {
    "accelerator": "GPU",
    "colab": {
      "provenance": []
    },
    "kernelspec": {
      "display_name": "Python 3",
      "name": "python3"
    },
    "language_info": {
      "name": "python"
    }
  },
  "nbformat": 4,
  "nbformat_minor": 0
}